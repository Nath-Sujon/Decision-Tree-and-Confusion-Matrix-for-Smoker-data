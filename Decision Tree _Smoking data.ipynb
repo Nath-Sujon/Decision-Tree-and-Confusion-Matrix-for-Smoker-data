{
 "cells": [
  {
   "cell_type": "markdown",
   "id": "bc96ec10",
   "metadata": {},
   "source": [
    "# Decision Tree and Confusion Matrix ML technique for Smoking Data "
   ]
  },
  {
   "cell_type": "code",
   "execution_count": 1,
   "id": "92eec210",
   "metadata": {},
   "outputs": [],
   "source": [
    "import pandas as pd\n",
    "df = pd.read_csv('Smoking Data.csv')"
   ]
  },
  {
   "cell_type": "code",
   "execution_count": 2,
   "id": "de900716",
   "metadata": {},
   "outputs": [
    {
     "data": {
      "text/html": [
       "<div>\n",
       "<style scoped>\n",
       "    .dataframe tbody tr th:only-of-type {\n",
       "        vertical-align: middle;\n",
       "    }\n",
       "\n",
       "    .dataframe tbody tr th {\n",
       "        vertical-align: top;\n",
       "    }\n",
       "\n",
       "    .dataframe thead th {\n",
       "        text-align: right;\n",
       "    }\n",
       "</style>\n",
       "<table border=\"1\" class=\"dataframe\">\n",
       "  <thead>\n",
       "    <tr style=\"text-align: right;\">\n",
       "      <th></th>\n",
       "      <th>region</th>\n",
       "      <th>age</th>\n",
       "      <th>sex</th>\n",
       "      <th>bmi</th>\n",
       "      <th>children</th>\n",
       "      <th>smoker</th>\n",
       "    </tr>\n",
       "  </thead>\n",
       "  <tbody>\n",
       "    <tr>\n",
       "      <th>0</th>\n",
       "      <td>southwest</td>\n",
       "      <td>19</td>\n",
       "      <td>female</td>\n",
       "      <td>27.900</td>\n",
       "      <td>0</td>\n",
       "      <td>yes</td>\n",
       "    </tr>\n",
       "    <tr>\n",
       "      <th>1</th>\n",
       "      <td>southeast</td>\n",
       "      <td>18</td>\n",
       "      <td>male</td>\n",
       "      <td>33.770</td>\n",
       "      <td>1</td>\n",
       "      <td>no</td>\n",
       "    </tr>\n",
       "    <tr>\n",
       "      <th>2</th>\n",
       "      <td>southeast</td>\n",
       "      <td>28</td>\n",
       "      <td>male</td>\n",
       "      <td>33.000</td>\n",
       "      <td>3</td>\n",
       "      <td>no</td>\n",
       "    </tr>\n",
       "    <tr>\n",
       "      <th>3</th>\n",
       "      <td>northwest</td>\n",
       "      <td>33</td>\n",
       "      <td>male</td>\n",
       "      <td>22.705</td>\n",
       "      <td>0</td>\n",
       "      <td>no</td>\n",
       "    </tr>\n",
       "    <tr>\n",
       "      <th>4</th>\n",
       "      <td>northwest</td>\n",
       "      <td>32</td>\n",
       "      <td>male</td>\n",
       "      <td>28.880</td>\n",
       "      <td>0</td>\n",
       "      <td>no</td>\n",
       "    </tr>\n",
       "  </tbody>\n",
       "</table>\n",
       "</div>"
      ],
      "text/plain": [
       "      region  age     sex     bmi  children smoker\n",
       "0  southwest   19  female  27.900         0    yes\n",
       "1  southeast   18    male  33.770         1     no\n",
       "2  southeast   28    male  33.000         3     no\n",
       "3  northwest   33    male  22.705         0     no\n",
       "4  northwest   32    male  28.880         0     no"
      ]
     },
     "execution_count": 2,
     "metadata": {},
     "output_type": "execute_result"
    }
   ],
   "source": [
    "df.head()"
   ]
  },
  {
   "cell_type": "code",
   "execution_count": 3,
   "id": "ee6300ee",
   "metadata": {},
   "outputs": [
    {
     "name": "stdout",
     "output_type": "stream",
     "text": [
      "<class 'pandas.core.frame.DataFrame'>\n",
      "RangeIndex: 1338 entries, 0 to 1337\n",
      "Data columns (total 6 columns):\n",
      " #   Column    Non-Null Count  Dtype  \n",
      "---  ------    --------------  -----  \n",
      " 0   region    1338 non-null   object \n",
      " 1   age       1338 non-null   int64  \n",
      " 2   sex       1338 non-null   object \n",
      " 3   bmi       1338 non-null   float64\n",
      " 4   children  1338 non-null   int64  \n",
      " 5   smoker    1338 non-null   object \n",
      "dtypes: float64(1), int64(2), object(3)\n",
      "memory usage: 62.8+ KB\n"
     ]
    }
   ],
   "source": [
    "df.info()"
   ]
  },
  {
   "cell_type": "code",
   "execution_count": 4,
   "id": "243efb9d",
   "metadata": {},
   "outputs": [
    {
     "data": {
      "text/plain": [
       "(1338, 6)"
      ]
     },
     "execution_count": 4,
     "metadata": {},
     "output_type": "execute_result"
    }
   ],
   "source": [
    "df.shape"
   ]
  },
  {
   "cell_type": "code",
   "execution_count": 5,
   "id": "b591e45a",
   "metadata": {},
   "outputs": [
    {
     "data": {
      "text/plain": [
       "region      0\n",
       "age         0\n",
       "sex         0\n",
       "bmi         0\n",
       "children    0\n",
       "smoker      0\n",
       "dtype: int64"
      ]
     },
     "execution_count": 5,
     "metadata": {},
     "output_type": "execute_result"
    }
   ],
   "source": [
    "df.isnull().sum()"
   ]
  },
  {
   "cell_type": "markdown",
   "id": "c2250a1b",
   "metadata": {},
   "source": [
    "# Label Encoding for the data"
   ]
  },
  {
   "cell_type": "code",
   "execution_count": 6,
   "id": "e29f4950",
   "metadata": {},
   "outputs": [],
   "source": [
    "from sklearn.preprocessing import LabelEncoder\n",
    "le=LabelEncoder()"
   ]
  },
  {
   "cell_type": "code",
   "execution_count": 7,
   "id": "0b33e8a8",
   "metadata": {},
   "outputs": [
    {
     "data": {
      "text/plain": [
       "array(['southwest', 'southeast', 'northwest', 'northeast'], dtype=object)"
      ]
     },
     "execution_count": 7,
     "metadata": {},
     "output_type": "execute_result"
    }
   ],
   "source": [
    "df.region.unique()"
   ]
  },
  {
   "cell_type": "code",
   "execution_count": 8,
   "id": "e300de54",
   "metadata": {},
   "outputs": [
    {
     "data": {
      "text/plain": [
       "array(['female', 'male'], dtype=object)"
      ]
     },
     "execution_count": 8,
     "metadata": {},
     "output_type": "execute_result"
    }
   ],
   "source": [
    "df.sex.unique()"
   ]
  },
  {
   "cell_type": "code",
   "execution_count": 9,
   "id": "a9a7f07b",
   "metadata": {},
   "outputs": [
    {
     "data": {
      "text/html": [
       "<div>\n",
       "<style scoped>\n",
       "    .dataframe tbody tr th:only-of-type {\n",
       "        vertical-align: middle;\n",
       "    }\n",
       "\n",
       "    .dataframe tbody tr th {\n",
       "        vertical-align: top;\n",
       "    }\n",
       "\n",
       "    .dataframe thead th {\n",
       "        text-align: right;\n",
       "    }\n",
       "</style>\n",
       "<table border=\"1\" class=\"dataframe\">\n",
       "  <thead>\n",
       "    <tr style=\"text-align: right;\">\n",
       "      <th></th>\n",
       "      <th>region</th>\n",
       "      <th>age</th>\n",
       "      <th>sex</th>\n",
       "      <th>bmi</th>\n",
       "      <th>children</th>\n",
       "      <th>smoker</th>\n",
       "    </tr>\n",
       "  </thead>\n",
       "  <tbody>\n",
       "    <tr>\n",
       "      <th>0</th>\n",
       "      <td>3</td>\n",
       "      <td>19</td>\n",
       "      <td>0</td>\n",
       "      <td>27.900</td>\n",
       "      <td>0</td>\n",
       "      <td>1</td>\n",
       "    </tr>\n",
       "    <tr>\n",
       "      <th>1</th>\n",
       "      <td>2</td>\n",
       "      <td>18</td>\n",
       "      <td>1</td>\n",
       "      <td>33.770</td>\n",
       "      <td>1</td>\n",
       "      <td>0</td>\n",
       "    </tr>\n",
       "    <tr>\n",
       "      <th>2</th>\n",
       "      <td>2</td>\n",
       "      <td>28</td>\n",
       "      <td>1</td>\n",
       "      <td>33.000</td>\n",
       "      <td>3</td>\n",
       "      <td>0</td>\n",
       "    </tr>\n",
       "    <tr>\n",
       "      <th>3</th>\n",
       "      <td>1</td>\n",
       "      <td>33</td>\n",
       "      <td>1</td>\n",
       "      <td>22.705</td>\n",
       "      <td>0</td>\n",
       "      <td>0</td>\n",
       "    </tr>\n",
       "    <tr>\n",
       "      <th>4</th>\n",
       "      <td>1</td>\n",
       "      <td>32</td>\n",
       "      <td>1</td>\n",
       "      <td>28.880</td>\n",
       "      <td>0</td>\n",
       "      <td>0</td>\n",
       "    </tr>\n",
       "  </tbody>\n",
       "</table>\n",
       "</div>"
      ],
      "text/plain": [
       "   region  age  sex     bmi  children  smoker\n",
       "0       3   19    0  27.900         0       1\n",
       "1       2   18    1  33.770         1       0\n",
       "2       2   28    1  33.000         3       0\n",
       "3       1   33    1  22.705         0       0\n",
       "4       1   32    1  28.880         0       0"
      ]
     },
     "execution_count": 9,
     "metadata": {},
     "output_type": "execute_result"
    }
   ],
   "source": [
    "df.region=le.fit_transform(df['region'])\n",
    "df.sex=le.fit_transform(df['sex'])\n",
    "df.smoker=le.fit_transform(df['smoker'])\n",
    "\n",
    "df.head()"
   ]
  },
  {
   "cell_type": "code",
   "execution_count": 10,
   "id": "0ecce01d",
   "metadata": {},
   "outputs": [
    {
     "data": {
      "text/plain": [
       "array([3, 2, 1, 0])"
      ]
     },
     "execution_count": 10,
     "metadata": {},
     "output_type": "execute_result"
    }
   ],
   "source": [
    "df.region.unique()"
   ]
  },
  {
   "cell_type": "code",
   "execution_count": 11,
   "id": "af61cad5",
   "metadata": {},
   "outputs": [
    {
     "data": {
      "text/plain": [
       "array([0, 1])"
      ]
     },
     "execution_count": 11,
     "metadata": {},
     "output_type": "execute_result"
    }
   ],
   "source": [
    "df.sex.unique()"
   ]
  },
  {
   "cell_type": "code",
   "execution_count": 12,
   "id": "adcfc26e",
   "metadata": {},
   "outputs": [],
   "source": [
    "import seaborn as sns"
   ]
  },
  {
   "cell_type": "code",
   "execution_count": 13,
   "id": "2118b2cb",
   "metadata": {},
   "outputs": [
    {
     "data": {
      "text/plain": [
       "0    1064\n",
       "1     274\n",
       "Name: smoker, dtype: int64"
      ]
     },
     "execution_count": 13,
     "metadata": {},
     "output_type": "execute_result"
    }
   ],
   "source": [
    "df.smoker.value_counts()"
   ]
  },
  {
   "cell_type": "code",
   "execution_count": 53,
   "id": "e711c714",
   "metadata": {},
   "outputs": [
    {
     "data": {
      "text/plain": [
       "0.20478325859491778"
      ]
     },
     "execution_count": 53,
     "metadata": {},
     "output_type": "execute_result"
    }
   ],
   "source": [
    "274/(1064+274) # 20% people smoker"
   ]
  },
  {
   "cell_type": "code",
   "execution_count": 54,
   "id": "b9ef24c0",
   "metadata": {},
   "outputs": [
    {
     "data": {
      "text/plain": [
       "<AxesSubplot:xlabel='smoker', ylabel='count'>"
      ]
     },
     "execution_count": 54,
     "metadata": {},
     "output_type": "execute_result"
    },
    {
     "data": {
      "image/png": "[encoded data removed]",
      "text/plain": [
       "<Figure size 432x288 with 1 Axes>"
      ]
     },
     "metadata": {
      "needs_background": "light"
     },
     "output_type": "display_data"
    }
   ],
   "source": [
    "sns.countplot(x='smoker',data=df)"
   ]
  },
  {
   "cell_type": "code",
   "execution_count": 56,
   "id": "6c83c292",
   "metadata": {},
   "outputs": [
    {
     "data": {
      "text/plain": [
       "<AxesSubplot:xlabel='sex', ylabel='count'>"
      ]
     },
     "execution_count": 56,
     "metadata": {},
     "output_type": "execute_result"
    },
    {
     "data": {
      "image/png": "[encoded data removed]",
      "text/plain": [
       "<Figure size 432x288 with 1 Axes>"
      ]
     },
     "metadata": {
      "needs_background": "light"
     },
     "output_type": "display_data"
    }
   ],
   "source": [
    "sns.countplot(x='sex',data=df, hue='smoker')"
   ]
  },
  {
   "cell_type": "code",
   "execution_count": 57,
   "id": "51c1f36b",
   "metadata": {},
   "outputs": [
    {
     "data": {
      "text/plain": [
       "1    676\n",
       "0    662\n",
       "Name: sex, dtype: int64"
      ]
     },
     "execution_count": 57,
     "metadata": {},
     "output_type": "execute_result"
    }
   ],
   "source": [
    "df.sex.value_counts()"
   ]
  },
  {
   "cell_type": "code",
   "execution_count": 58,
   "id": "7608edf6",
   "metadata": {},
   "outputs": [
    {
     "data": {
      "text/plain": [
       "0.17371601208459214"
      ]
     },
     "execution_count": 58,
     "metadata": {},
     "output_type": "execute_result"
    }
   ],
   "source": [
    "115/(547+115) #17% female are smoker"
   ]
  },
  {
   "cell_type": "code",
   "execution_count": 59,
   "id": "497e2ed1",
   "metadata": {},
   "outputs": [
    {
     "data": {
      "text/plain": [
       "0.22189349112426035"
      ]
     },
     "execution_count": 59,
     "metadata": {},
     "output_type": "execute_result"
    }
   ],
   "source": [
    "150/(526+150) #22% male are smoker"
   ]
  },
  {
   "cell_type": "code",
   "execution_count": 14,
   "id": "010309e9",
   "metadata": {},
   "outputs": [],
   "source": [
    "#southwest = 3', 'southeast =2', 'northwest=1', 'northeast=0\n",
    "# female = 0, male=1\n",
    "\n",
    "\n",
    "x = df.drop('smoker',axis=1)\n",
    "y = df.smoker"
   ]
  },
  {
   "cell_type": "code",
   "execution_count": 15,
   "id": "c37ae643",
   "metadata": {},
   "outputs": [
    {
     "data": {
      "text/html": [
       "<div>\n",
       "<style scoped>\n",
       "    .dataframe tbody tr th:only-of-type {\n",
       "        vertical-align: middle;\n",
       "    }\n",
       "\n",
       "    .dataframe tbody tr th {\n",
       "        vertical-align: top;\n",
       "    }\n",
       "\n",
       "    .dataframe thead th {\n",
       "        text-align: right;\n",
       "    }\n",
       "</style>\n",
       "<table border=\"1\" class=\"dataframe\">\n",
       "  <thead>\n",
       "    <tr style=\"text-align: right;\">\n",
       "      <th></th>\n",
       "      <th>region</th>\n",
       "      <th>age</th>\n",
       "      <th>sex</th>\n",
       "      <th>bmi</th>\n",
       "      <th>children</th>\n",
       "    </tr>\n",
       "  </thead>\n",
       "  <tbody>\n",
       "    <tr>\n",
       "      <th>0</th>\n",
       "      <td>3</td>\n",
       "      <td>19</td>\n",
       "      <td>0</td>\n",
       "      <td>27.900</td>\n",
       "      <td>0</td>\n",
       "    </tr>\n",
       "    <tr>\n",
       "      <th>1</th>\n",
       "      <td>2</td>\n",
       "      <td>18</td>\n",
       "      <td>1</td>\n",
       "      <td>33.770</td>\n",
       "      <td>1</td>\n",
       "    </tr>\n",
       "    <tr>\n",
       "      <th>2</th>\n",
       "      <td>2</td>\n",
       "      <td>28</td>\n",
       "      <td>1</td>\n",
       "      <td>33.000</td>\n",
       "      <td>3</td>\n",
       "    </tr>\n",
       "    <tr>\n",
       "      <th>3</th>\n",
       "      <td>1</td>\n",
       "      <td>33</td>\n",
       "      <td>1</td>\n",
       "      <td>22.705</td>\n",
       "      <td>0</td>\n",
       "    </tr>\n",
       "    <tr>\n",
       "      <th>4</th>\n",
       "      <td>1</td>\n",
       "      <td>32</td>\n",
       "      <td>1</td>\n",
       "      <td>28.880</td>\n",
       "      <td>0</td>\n",
       "    </tr>\n",
       "  </tbody>\n",
       "</table>\n",
       "</div>"
      ],
      "text/plain": [
       "   region  age  sex     bmi  children\n",
       "0       3   19    0  27.900         0\n",
       "1       2   18    1  33.770         1\n",
       "2       2   28    1  33.000         3\n",
       "3       1   33    1  22.705         0\n",
       "4       1   32    1  28.880         0"
      ]
     },
     "execution_count": 15,
     "metadata": {},
     "output_type": "execute_result"
    }
   ],
   "source": [
    "x.head()"
   ]
  },
  {
   "cell_type": "markdown",
   "id": "ac67215a",
   "metadata": {},
   "source": [
    "# Spliting the dataset for train and test"
   ]
  },
  {
   "cell_type": "code",
   "execution_count": 16,
   "id": "c7107ee5",
   "metadata": {},
   "outputs": [],
   "source": [
    "from sklearn.model_selection import train_test_split as tts\n",
    "xtrain,xtest,ytrain,ytest=tts(x,y,train_size=.70, random_state=280)"
   ]
  },
  {
   "cell_type": "code",
   "execution_count": 17,
   "id": "7758526f",
   "metadata": {},
   "outputs": [
    {
     "data": {
      "text/plain": [
       "(936, 5)"
      ]
     },
     "execution_count": 17,
     "metadata": {},
     "output_type": "execute_result"
    }
   ],
   "source": [
    "xtrain.shape"
   ]
  },
  {
   "cell_type": "code",
   "execution_count": 18,
   "id": "5d13fd46",
   "metadata": {},
   "outputs": [
    {
     "data": {
      "text/plain": [
       "(402, 5)"
      ]
     },
     "execution_count": 18,
     "metadata": {},
     "output_type": "execute_result"
    }
   ],
   "source": [
    "xtest.shape"
   ]
  },
  {
   "cell_type": "markdown",
   "id": "f1a01739",
   "metadata": {},
   "source": [
    "# Training ML Decision Tree Model"
   ]
  },
  {
   "cell_type": "code",
   "execution_count": 19,
   "id": "f54fa81f",
   "metadata": {},
   "outputs": [
    {
     "data": {
      "text/plain": [
       "DecisionTreeClassifier()"
      ]
     },
     "execution_count": 19,
     "metadata": {},
     "output_type": "execute_result"
    }
   ],
   "source": [
    "from sklearn.tree import DecisionTreeClassifier\n",
    "clf=DecisionTreeClassifier()\n",
    "clf.fit(xtrain,ytrain)"
   ]
  },
  {
   "cell_type": "markdown",
   "id": "f485c615",
   "metadata": {},
   "source": [
    "# Plot a decision tree diagram"
   ]
  },
  {
   "cell_type": "code",
   "execution_count": 20,
   "id": "206b26eb",
   "metadata": {},
   "outputs": [],
   "source": [
    "from sklearn import tree\n",
    "import matplotlib.pyplot as plt"
   ]
  },
  {
   "cell_type": "code",
   "execution_count": 21,
   "id": "fa5530f6",
   "metadata": {},
   "outputs": [
    {
     "data": {
      "text/plain": [
       "[Text(274.89631911057694, 640.24, 'sex <= 0.5\\ngini = 0.336\\nsamples = 936\\nvalue = [736, 200]'),\n",
       " Text(115.57653245192309, 616.08, 'bmi <= 22.995\\ngini = 0.304\\nsamples = 455\\nvalue = [370, 85]'),\n",
       " Text(37.2, 591.9200000000001, 'children <= 1.5\\ngini = 0.473\\nsamples = 47\\nvalue = [29, 18]'),\n",
       " Text(20.03076923076923, 567.76, 'bmi <= 20.045\\ngini = 0.415\\nsamples = 34\\nvalue = [24, 10]'),\n",
       " Text(17.16923076923077, 543.6, 'gini = 0.0\\nsamples = 8\\nvalue = [8, 0]'),\n",
       " Text(22.892307692307693, 543.6, 'bmi <= 21.898\\ngini = 0.473\\nsamples = 26\\nvalue = [16, 10]'),\n",
       " Text(11.446153846153846, 519.44, 'region <= 0.5\\ngini = 0.497\\nsamples = 13\\nvalue = [6, 7]'),\n",
       " Text(5.723076923076923, 495.2800000000001, 'age <= 35.0\\ngini = 0.245\\nsamples = 7\\nvalue = [1, 6]'),\n",
       " Text(2.8615384615384616, 471.12000000000006, 'gini = 0.0\\nsamples = 5\\nvalue = [0, 5]'),\n",
       " Text(8.584615384615384, 471.12000000000006, 'age <= 42.5\\ngini = 0.5\\nsamples = 2\\nvalue = [1, 1]'),\n",
       " Text(5.723076923076923, 446.96000000000004, 'gini = 0.0\\nsamples = 1\\nvalue = [1, 0]'),\n",
       " Text(11.446153846153846, 446.96000000000004, 'gini = 0.0\\nsamples = 1\\nvalue = [0, 1]'),\n",
       " Text(17.16923076923077, 495.2800000000001, 'region <= 2.5\\ngini = 0.278\\nsamples = 6\\nvalue = [5, 1]'),\n",
       " Text(14.307692307692308, 471.12000000000006, 'gini = 0.0\\nsamples = 5\\nvalue = [5, 0]'),\n",
       " Text(20.03076923076923, 471.12000000000006, 'gini = 0.0\\nsamples = 1\\nvalue = [0, 1]'),\n",
       " Text(34.33846153846154, 519.44, 'bmi <= 22.825\\ngini = 0.355\\nsamples = 13\\nvalue = [10, 3]'),\n",
       " Text(28.615384615384617, 495.2800000000001, 'age <= 20.5\\ngini = 0.18\\nsamples = 10\\nvalue = [9, 1]'),\n",
       " Text(25.753846153846155, 471.12000000000006, 'bmi <= 22.467\\ngini = 0.5\\nsamples = 2\\nvalue = [1, 1]'),\n",
       " Text(22.892307692307693, 446.96000000000004, 'gini = 0.0\\nsamples = 1\\nvalue = [0, 1]'),\n",
       " Text(28.615384615384617, 446.96000000000004, 'gini = 0.0\\nsamples = 1\\nvalue = [1, 0]'),\n",
       " Text(31.47692307692308, 471.12000000000006, 'gini = 0.0\\nsamples = 8\\nvalue = [8, 0]'),\n",
       " Text(40.06153846153846, 495.2800000000001, 'age <= 41.5\\ngini = 0.444\\nsamples = 3\\nvalue = [1, 2]'),\n",
       " Text(37.2, 471.12000000000006, 'gini = 0.0\\nsamples = 1\\nvalue = [1, 0]'),\n",
       " Text(42.92307692307693, 471.12000000000006, 'gini = 0.0\\nsamples = 2\\nvalue = [0, 2]'),\n",
       " Text(54.36923076923077, 567.76, 'children <= 2.5\\ngini = 0.473\\nsamples = 13\\nvalue = [5, 8]'),\n",
       " Text(45.784615384615385, 543.6, 'age <= 37.0\\ngini = 0.245\\nsamples = 7\\nvalue = [1, 6]'),\n",
       " Text(42.92307692307693, 519.44, 'gini = 0.0\\nsamples = 4\\nvalue = [0, 4]'),\n",
       " Text(48.646153846153844, 519.44, 'age <= 39.0\\ngini = 0.444\\nsamples = 3\\nvalue = [1, 2]'),\n",
       " Text(45.784615384615385, 495.2800000000001, 'gini = 0.0\\nsamples = 1\\nvalue = [1, 0]'),\n",
       " Text(51.50769230769231, 495.2800000000001, 'gini = 0.0\\nsamples = 2\\nvalue = [0, 2]'),\n",
       " Text(62.95384615384616, 543.6, 'children <= 4.0\\ngini = 0.444\\nsamples = 6\\nvalue = [4, 2]'),\n",
       " Text(60.09230769230769, 519.44, 'age <= 28.5\\ngini = 0.32\\nsamples = 5\\nvalue = [4, 1]'),\n",
       " Text(57.23076923076923, 495.2800000000001, 'age <= 24.5\\ngini = 0.5\\nsamples = 2\\nvalue = [1, 1]'),\n",
       " Text(54.36923076923077, 471.12000000000006, 'gini = 0.0\\nsamples = 1\\nvalue = [1, 0]'),\n",
       " Text(60.09230769230769, 471.12000000000006, 'gini = 0.0\\nsamples = 1\\nvalue = [0, 1]'),\n",
       " Text(62.95384615384616, 495.2800000000001, 'gini = 0.0\\nsamples = 3\\nvalue = [3, 0]'),\n",
       " Text(65.81538461538462, 519.44, 'gini = 0.0\\nsamples = 1\\nvalue = [0, 1]'),\n",
       " Text(193.95306490384615, 591.9200000000001, 'age <= 62.5\\ngini = 0.274\\nsamples = 408\\nvalue = [341, 67]'),\n",
       " Text(152.54459134615385, 567.76, 'region <= 2.5\\ngini = 0.265\\nsamples = 395\\nvalue = [333, 62]'),\n",
       " Text(96.196875, 543.6, 'bmi <= 23.653\\ngini = 0.293\\nsamples = 297\\nvalue = [244, 53]'),\n",
       " Text(93.33533653846153, 519.44, 'gini = 0.0\\nsamples = 12\\nvalue = [12, 0]'),\n",
       " Text(99.05841346153846, 519.44, 'bmi <= 23.75\\ngini = 0.303\\nsamples = 285\\nvalue = [232, 53]'),\n",
       " Text(96.196875, 495.2800000000001, 'gini = 0.0\\nsamples = 2\\nvalue = [0, 2]'),\n",
       " Text(101.91995192307692, 495.2800000000001, 'bmi <= 24.773\\ngini = 0.295\\nsamples = 283\\nvalue = [232, 51]'),\n",
       " Text(65.81538461538462, 471.12000000000006, 'bmi <= 24.653\\ngini = 0.459\\nsamples = 14\\nvalue = [9, 5]'),\n",
       " Text(62.95384615384616, 446.96000000000004, 'age <= 48.0\\ngini = 0.375\\nsamples = 12\\nvalue = [9, 3]'),\n",
       " Text(57.23076923076923, 422.80000000000007, 'bmi <= 24.37\\ngini = 0.219\\nsamples = 8\\nvalue = [7, 1]'),\n",
       " Text(54.36923076923077, 398.64000000000004, 'gini = 0.0\\nsamples = 7\\nvalue = [7, 0]'),\n",
       " Text(60.09230769230769, 398.64000000000004, 'gini = 0.0\\nsamples = 1\\nvalue = [0, 1]'),\n",
       " Text(68.67692307692307, 422.80000000000007, 'age <= 53.0\\ngini = 0.5\\nsamples = 4\\nvalue = [2, 2]'),\n",
       " Text(65.81538461538462, 398.64000000000004, 'gini = 0.0\\nsamples = 2\\nvalue = [0, 2]'),\n",
       " Text(71.53846153846153, 398.64000000000004, 'gini = 0.0\\nsamples = 2\\nvalue = [2, 0]'),\n",
       " Text(68.67692307692307, 446.96000000000004, 'gini = 0.0\\nsamples = 2\\nvalue = [0, 2]'),\n",
       " Text(138.02451923076924, 471.12000000000006, 'bmi <= 35.175\\ngini = 0.284\\nsamples = 269\\nvalue = [223, 46]'),\n",
       " Text(102.21057692307693, 446.96000000000004, 'region <= 0.5\\ngini = 0.25\\nsamples = 191\\nvalue = [163, 28]'),\n",
       " Text(82.98461538461538, 422.80000000000007, 'bmi <= 26.22\\ngini = 0.103\\nsamples = 55\\nvalue = [52, 3]'),\n",
       " Text(77.26153846153846, 398.64000000000004, 'age <= 41.5\\ngini = 0.408\\nsamples = 7\\nvalue = [5, 2]'),\n",
       " Text(74.4, 374.4800000000001, 'gini = 0.0\\nsamples = 3\\nvalue = [3, 0]'),\n",
       " Text(80.12307692307692, 374.4800000000001, 'children <= 1.5\\ngini = 0.5\\nsamples = 4\\nvalue = [2, 2]'),\n",
       " Text(77.26153846153846, 350.32000000000005, 'gini = 0.0\\nsamples = 2\\nvalue = [0, 2]'),\n",
       " Text(82.98461538461538, 350.32000000000005, 'gini = 0.0\\nsamples = 2\\nvalue = [2, 0]'),\n",
       " Text(88.70769230769231, 398.64000000000004, 'bmi <= 31.825\\ngini = 0.041\\nsamples = 48\\nvalue = [47, 1]'),\n",
       " Text(85.84615384615385, 374.4800000000001, 'gini = 0.0\\nsamples = 31\\nvalue = [31, 0]'),\n",
       " Text(91.56923076923077, 374.4800000000001, 'bmi <= 32.11\\ngini = 0.111\\nsamples = 17\\nvalue = [16, 1]'),\n",
       " Text(88.70769230769231, 350.32000000000005, 'gini = 0.0\\nsamples = 1\\nvalue = [0, 1]'),\n",
       " Text(94.43076923076923, 350.32000000000005, 'gini = 0.0\\nsamples = 16\\nvalue = [16, 0]'),\n",
       " Text(121.43653846153846, 422.80000000000007, 'bmi <= 26.358\\ngini = 0.3\\nsamples = 136\\nvalue = [111, 25]'),\n",
       " Text(118.575, 398.64000000000004, 'gini = 0.0\\nsamples = 16\\nvalue = [16, 0]'),\n",
       " Text(124.29807692307692, 398.64000000000004, 'bmi <= 33.132\\ngini = 0.33\\nsamples = 120\\nvalue = [95, 25]'),\n",
       " Text(113.38846153846154, 374.4800000000001, 'bmi <= 32.34\\ngini = 0.37\\nsamples = 98\\nvalue = [74, 24]'),\n",
       " Text(100.15384615384616, 350.32000000000005, 'bmi <= 31.2\\ngini = 0.328\\nsamples = 87\\nvalue = [69, 18]'),\n",
       " Text(97.29230769230769, 326.16, 'age <= 23.5\\ngini = 0.368\\nsamples = 74\\nvalue = [56, 18]'),\n",
       " Text(85.13076923076923, 302.00000000000006, 'bmi <= 28.12\\ngini = 0.494\\nsamples = 9\\nvalue = [4, 5]'),\n",
       " Text(82.26923076923077, 277.84000000000003, 'gini = 0.0\\nsamples = 2\\nvalue = [2, 0]'),\n",
       " Text(87.99230769230769, 277.84000000000003, 'region <= 1.5\\ngini = 0.408\\nsamples = 7\\nvalue = [2, 5]'),\n",
       " Text(82.26923076923077, 253.68000000000006, 'bmi <= 30.448\\ngini = 0.32\\nsamples = 5\\nvalue = [1, 4]'),\n",
       " Text(79.40769230769232, 229.52000000000004, 'gini = 0.0\\nsamples = 4\\nvalue = [0, 4]'),\n",
       " Text(85.13076923076923, 229.52000000000004, 'gini = 0.0\\nsamples = 1\\nvalue = [1, 0]'),\n",
       " Text(93.71538461538462, 253.68000000000006, 'bmi <= 29.92\\ngini = 0.5\\nsamples = 2\\nvalue = [1, 1]'),\n",
       " Text(90.85384615384615, 229.52000000000004, 'gini = 0.0\\nsamples = 1\\nvalue = [1, 0]'),\n",
       " Text(96.57692307692308, 229.52000000000004, 'gini = 0.0\\nsamples = 1\\nvalue = [0, 1]'),\n",
       " Text(109.45384615384616, 302.00000000000006, 'bmi <= 26.405\\ngini = 0.32\\nsamples = 65\\nvalue = [52, 13]'),\n",
       " Text(106.5923076923077, 277.84000000000003, 'gini = 0.0\\nsamples = 1\\nvalue = [0, 1]'),\n",
       " Text(112.31538461538462, 277.84000000000003, 'bmi <= 31.145\\ngini = 0.305\\nsamples = 64\\nvalue = [52, 12]'),\n",
       " Text(109.45384615384616, 253.68000000000006, 'children <= 1.5\\ngini = 0.288\\nsamples = 63\\nvalue = [52, 11]'),\n",
       " Text(102.3, 229.52000000000004, 'age <= 56.5\\ngini = 0.351\\nsamples = 44\\nvalue = [34, 10]'),\n",
       " Text(96.57692307692308, 205.36000000000007, 'age <= 47.5\\ngini = 0.32\\nsamples = 40\\nvalue = [32, 8]'),\n",
       " Text(93.71538461538462, 181.20000000000005, 'bmi <= 28.655\\ngini = 0.375\\nsamples = 32\\nvalue = [24, 8]'),\n",
       " Text(87.99230769230769, 157.04000000000002, 'age <= 30.5\\ngini = 0.469\\nsamples = 16\\nvalue = [10, 6]'),\n",
       " Text(85.13076923076923, 132.88, 'gini = 0.0\\nsamples = 2\\nvalue = [0, 2]'),\n",
       " Text(90.85384615384615, 132.88, 'age <= 34.5\\ngini = 0.408\\nsamples = 14\\nvalue = [10, 4]'),\n",
       " Text(87.99230769230769, 108.72000000000003, 'gini = 0.0\\nsamples = 5\\nvalue = [5, 0]'),\n",
       " Text(93.71538461538462, 108.72000000000003, 'age <= 35.5\\ngini = 0.494\\nsamples = 9\\nvalue = [5, 4]'),\n",
       " Text(90.85384615384615, 84.56000000000006, 'gini = 0.0\\nsamples = 1\\nvalue = [0, 1]'),\n",
       " Text(96.57692307692308, 84.56000000000006, 'region <= 1.5\\ngini = 0.469\\nsamples = 8\\nvalue = [5, 3]'),\n",
       " Text(93.71538461538462, 60.40000000000009, 'age <= 43.5\\ngini = 0.408\\nsamples = 7\\nvalue = [5, 2]'),\n",
       " Text(90.85384615384615, 36.24000000000001, 'age <= 41.5\\ngini = 0.5\\nsamples = 4\\nvalue = [2, 2]'),\n",
       " Text(87.99230769230769, 12.080000000000041, 'gini = 0.0\\nsamples = 2\\nvalue = [2, 0]'),\n",
       " Text(93.71538461538462, 12.080000000000041, 'gini = 0.0\\nsamples = 2\\nvalue = [0, 2]'),\n",
       " Text(96.57692307692308, 36.24000000000001, 'gini = 0.0\\nsamples = 3\\nvalue = [3, 0]'),\n",
       " Text(99.43846153846154, 60.40000000000009, 'gini = 0.0\\nsamples = 1\\nvalue = [0, 1]'),\n",
       " Text(99.43846153846154, 157.04000000000002, 'bmi <= 30.115\\ngini = 0.219\\nsamples = 16\\nvalue = [14, 2]'),\n",
       " Text(96.57692307692308, 132.88, 'gini = 0.0\\nsamples = 12\\nvalue = [12, 0]'),\n",
       " Text(102.3, 132.88, 'bmi <= 30.593\\ngini = 0.5\\nsamples = 4\\nvalue = [2, 2]'),\n",
       " Text(99.43846153846154, 108.72000000000003, 'gini = 0.0\\nsamples = 2\\nvalue = [0, 2]'),\n",
       " Text(105.16153846153847, 108.72000000000003, 'gini = 0.0\\nsamples = 2\\nvalue = [2, 0]'),\n",
       " Text(99.43846153846154, 181.20000000000005, 'gini = 0.0\\nsamples = 8\\nvalue = [8, 0]'),\n",
       " Text(108.02307692307693, 205.36000000000007, 'bmi <= 29.865\\ngini = 0.5\\nsamples = 4\\nvalue = [2, 2]'),\n",
       " Text(105.16153846153847, 181.20000000000005, 'gini = 0.0\\nsamples = 2\\nvalue = [0, 2]'),\n",
       " Text(110.88461538461539, 181.20000000000005, 'gini = 0.0\\nsamples = 2\\nvalue = [2, 0]'),\n",
       " Text(116.6076923076923, 229.52000000000004, 'bmi <= 27.682\\ngini = 0.1\\nsamples = 19\\nvalue = [18, 1]'),\n",
       " Text(113.74615384615385, 205.36000000000007, 'gini = 0.0\\nsamples = 1\\nvalue = [0, 1]'),\n",
       " Text(119.46923076923078, 205.36000000000007, 'gini = 0.0\\nsamples = 18\\nvalue = [18, 0]'),\n",
       " Text(115.17692307692307, 253.68000000000006, 'gini = 0.0\\nsamples = 1\\nvalue = [0, 1]'),\n",
       " Text(103.01538461538462, 326.16, 'gini = 0.0\\nsamples = 13\\nvalue = [13, 0]'),\n",
       " Text(126.62307692307692, 350.32000000000005, 'region <= 1.5\\ngini = 0.496\\nsamples = 11\\nvalue = [5, 6]'),\n",
       " Text(123.76153846153846, 326.16, 'age <= 25.0\\ngini = 0.408\\nsamples = 7\\nvalue = [5, 2]'),\n",
       " Text(120.9, 302.00000000000006, 'gini = 0.0\\nsamples = 1\\nvalue = [0, 1]'),\n",
       " Text(126.62307692307692, 302.00000000000006, 'age <= 47.5\\ngini = 0.278\\nsamples = 6\\nvalue = [5, 1]'),\n",
       " Text(123.76153846153846, 277.84000000000003, 'age <= 35.5\\ngini = 0.444\\nsamples = 3\\nvalue = [2, 1]'),\n",
       " Text(120.9, 253.68000000000006, 'gini = 0.0\\nsamples = 2\\nvalue = [2, 0]'),\n",
       " Text(126.62307692307692, 253.68000000000006, 'gini = 0.0\\nsamples = 1\\nvalue = [0, 1]'),\n",
       " Text(129.48461538461538, 277.84000000000003, 'gini = 0.0\\nsamples = 3\\nvalue = [3, 0]'),\n",
       " Text(129.48461538461538, 326.16, 'gini = 0.0\\nsamples = 4\\nvalue = [0, 4]'),\n",
       " Text(135.2076923076923, 374.4800000000001, 'children <= 2.5\\ngini = 0.087\\nsamples = 22\\nvalue = [21, 1]'),\n",
       " Text(132.34615384615384, 350.32000000000005, 'gini = 0.0\\nsamples = 17\\nvalue = [17, 0]'),\n",
       " Text(138.06923076923078, 350.32000000000005, 'region <= 1.5\\ngini = 0.32\\nsamples = 5\\nvalue = [4, 1]'),\n",
       " Text(135.2076923076923, 326.16, 'age <= 33.5\\ngini = 0.444\\nsamples = 3\\nvalue = [2, 1]'),\n",
       " Text(132.34615384615384, 302.00000000000006, 'gini = 0.0\\nsamples = 2\\nvalue = [2, 0]'),\n",
       " Text(138.06923076923078, 302.00000000000006, 'gini = 0.0\\nsamples = 1\\nvalue = [0, 1]'),\n",
       " Text(140.93076923076924, 326.16, 'gini = 0.0\\nsamples = 2\\nvalue = [2, 0]'),\n",
       " Text(173.83846153846153, 446.96000000000004, 'bmi <= 39.0\\ngini = 0.355\\nsamples = 78\\nvalue = [60, 18]'),\n",
       " Text(160.96153846153845, 422.80000000000007, 'bmi <= 38.89\\ngini = 0.425\\nsamples = 49\\nvalue = [34, 15]'),\n",
       " Text(158.1, 398.64000000000004, 'bmi <= 35.577\\ngini = 0.413\\nsamples = 48\\nvalue = [34, 14]'),\n",
       " Text(146.65384615384616, 374.4800000000001, 'region <= 1.5\\ngini = 0.48\\nsamples = 5\\nvalue = [2, 3]'),\n",
       " Text(143.7923076923077, 350.32000000000005, 'gini = 0.0\\nsamples = 2\\nvalue = [0, 2]'),\n",
       " Text(149.51538461538462, 350.32000000000005, 'age <= 42.0\\ngini = 0.444\\nsamples = 3\\nvalue = [2, 1]'),\n",
       " Text(146.65384615384616, 326.16, 'gini = 0.0\\nsamples = 1\\nvalue = [1, 0]'),\n",
       " Text(152.37692307692308, 326.16, 'age <= 57.0\\ngini = 0.5\\nsamples = 2\\nvalue = [1, 1]'),\n",
       " Text(149.51538461538462, 302.00000000000006, 'gini = 0.0\\nsamples = 1\\nvalue = [0, 1]'),\n",
       " Text(155.23846153846154, 302.00000000000006, 'gini = 0.0\\nsamples = 1\\nvalue = [1, 0]'),\n",
       " Text(169.54615384615386, 374.4800000000001, 'bmi <= 35.995\\ngini = 0.381\\nsamples = 43\\nvalue = [32, 11]'),\n",
       " Text(166.6846153846154, 350.32000000000005, 'gini = 0.0\\nsamples = 8\\nvalue = [8, 0]'),\n",
       " Text(172.40769230769232, 350.32000000000005, 'region <= 0.5\\ngini = 0.431\\nsamples = 35\\nvalue = [24, 11]'),\n",
       " Text(163.82307692307694, 326.16, 'bmi <= 36.812\\ngini = 0.494\\nsamples = 9\\nvalue = [4, 5]'),\n",
       " Text(160.96153846153845, 302.00000000000006, 'gini = 0.0\\nsamples = 3\\nvalue = [0, 3]'),\n",
       " Text(166.6846153846154, 302.00000000000006, 'children <= 2.5\\ngini = 0.444\\nsamples = 6\\nvalue = [4, 2]'),\n",
       " Text(163.82307692307694, 277.84000000000003, 'age <= 33.0\\ngini = 0.32\\nsamples = 5\\nvalue = [4, 1]'),\n",
       " Text(160.96153846153845, 253.68000000000006, 'children <= 1.5\\ngini = 0.5\\nsamples = 2\\nvalue = [1, 1]'),\n",
       " Text(158.1, 229.52000000000004, 'gini = 0.0\\nsamples = 1\\nvalue = [0, 1]'),\n",
       " Text(163.82307692307694, 229.52000000000004, 'gini = 0.0\\nsamples = 1\\nvalue = [1, 0]'),\n",
       " Text(166.6846153846154, 253.68000000000006, 'gini = 0.0\\nsamples = 3\\nvalue = [3, 0]'),\n",
       " Text(169.54615384615386, 277.84000000000003, 'gini = 0.0\\nsamples = 1\\nvalue = [0, 1]'),\n",
       " Text(180.9923076923077, 326.16, 'bmi <= 36.138\\ngini = 0.355\\nsamples = 26\\nvalue = [20, 6]'),\n",
       " Text(178.13076923076923, 302.00000000000006, 'gini = 0.0\\nsamples = 1\\nvalue = [0, 1]'),\n",
       " Text(183.85384615384615, 302.00000000000006, 'bmi <= 37.895\\ngini = 0.32\\nsamples = 25\\nvalue = [20, 5]'),\n",
       " Text(178.13076923076923, 277.84000000000003, 'bmi <= 36.908\\ngini = 0.245\\nsamples = 21\\nvalue = [18, 3]'),\n",
       " Text(175.26923076923077, 253.68000000000006, 'bmi <= 36.76\\ngini = 0.375\\nsamples = 12\\nvalue = [9, 3]'),\n",
       " Text(169.54615384615386, 229.52000000000004, 'bmi <= 36.603\\ngini = 0.198\\nsamples = 9\\nvalue = [8, 1]'),\n",
       " Text(166.6846153846154, 205.36000000000007, 'gini = 0.0\\nsamples = 5\\nvalue = [5, 0]'),\n",
       " Text(172.40769230769232, 205.36000000000007, 'children <= 1.5\\ngini = 0.375\\nsamples = 4\\nvalue = [3, 1]'),\n",
       " Text(169.54615384615386, 181.20000000000005, 'gini = 0.0\\nsamples = 1\\nvalue = [0, 1]'),\n",
       " Text(175.26923076923077, 181.20000000000005, 'gini = 0.0\\nsamples = 3\\nvalue = [3, 0]'),\n",
       " Text(180.9923076923077, 229.52000000000004, 'region <= 1.5\\ngini = 0.444\\nsamples = 3\\nvalue = [1, 2]'),\n",
       " Text(178.13076923076923, 205.36000000000007, 'gini = 0.0\\nsamples = 1\\nvalue = [0, 1]'),\n",
       " Text(183.85384615384615, 205.36000000000007, 'gini = 0.5\\nsamples = 2\\nvalue = [1, 1]'),\n",
       " Text(180.9923076923077, 253.68000000000006, 'gini = 0.0\\nsamples = 9\\nvalue = [9, 0]'),\n",
       " Text(189.57692307692307, 277.84000000000003, 'age <= 33.0\\ngini = 0.5\\nsamples = 4\\nvalue = [2, 2]'),\n",
       " Text(186.7153846153846, 253.68000000000006, 'gini = 0.0\\nsamples = 2\\nvalue = [2, 0]'),\n",
       " Text(192.43846153846155, 253.68000000000006, 'gini = 0.0\\nsamples = 2\\nvalue = [0, 2]'),\n",
       " Text(163.82307692307694, 398.64000000000004, 'gini = 0.0\\nsamples = 1\\nvalue = [0, 1]'),\n",
       " Text(186.7153846153846, 422.80000000000007, 'bmi <= 43.615\\ngini = 0.185\\nsamples = 29\\nvalue = [26, 3]'),\n",
       " Text(178.13076923076923, 398.64000000000004, 'children <= 1.5\\ngini = 0.083\\nsamples = 23\\nvalue = [22, 1]'),\n",
       " Text(175.26923076923077, 374.4800000000001, 'gini = 0.0\\nsamples = 18\\nvalue = [18, 0]'),\n",
       " Text(180.9923076923077, 374.4800000000001, 'bmi <= 40.8\\ngini = 0.32\\nsamples = 5\\nvalue = [4, 1]'),\n",
       " Text(178.13076923076923, 350.32000000000005, 'gini = 0.0\\nsamples = 1\\nvalue = [0, 1]'),\n",
       " Text(183.85384615384615, 350.32000000000005, 'gini = 0.0\\nsamples = 4\\nvalue = [4, 0]'),\n",
       " Text(195.3, 398.64000000000004, 'age <= 45.0\\ngini = 0.444\\nsamples = 6\\nvalue = [4, 2]'),\n",
       " Text(192.43846153846155, 374.4800000000001, 'age <= 37.5\\ngini = 0.444\\nsamples = 3\\nvalue = [1, 2]'),\n",
       " Text(189.57692307692307, 350.32000000000005, 'gini = 0.0\\nsamples = 1\\nvalue = [1, 0]'),\n",
       " Text(195.3, 350.32000000000005, 'gini = 0.0\\nsamples = 2\\nvalue = [0, 2]'),\n",
       " Text(198.16153846153847, 374.4800000000001, 'gini = 0.0\\nsamples = 3\\nvalue = [3, 0]'),\n",
       " Text(208.8923076923077, 543.6, 'age <= 19.5\\ngini = 0.167\\nsamples = 98\\nvalue = [89, 9]'),\n",
       " Text(201.02307692307693, 519.44, 'children <= 1.5\\ngini = 0.5\\nsamples = 6\\nvalue = [3, 3]'),\n",
       " Text(198.16153846153847, 495.2800000000001, 'bmi <= 28.35\\ngini = 0.48\\nsamples = 5\\nvalue = [3, 2]'),\n",
       " Text(195.3, 471.12000000000006, 'bmi <= 26.3\\ngini = 0.444\\nsamples = 3\\nvalue = [1, 2]'),\n",
       " Text(192.43846153846155, 446.96000000000004, 'gini = 0.0\\nsamples = 1\\nvalue = [1, 0]'),\n",
       " Text(198.16153846153847, 446.96000000000004, 'gini = 0.0\\nsamples = 2\\nvalue = [0, 2]'),\n",
       " Text(201.02307692307693, 471.12000000000006, 'gini = 0.0\\nsamples = 2\\nvalue = [2, 0]'),\n",
       " Text(203.8846153846154, 495.2800000000001, 'gini = 0.0\\nsamples = 1\\nvalue = [0, 1]'),\n",
       " Text(216.76153846153846, 519.44, 'age <= 37.5\\ngini = 0.122\\nsamples = 92\\nvalue = [86, 6]'),\n",
       " Text(213.9, 495.2800000000001, 'children <= 0.5\\ngini = 0.272\\nsamples = 37\\nvalue = [31, 6]'),\n",
       " Text(206.74615384615385, 471.12000000000006, 'age <= 22.5\\ngini = 0.415\\nsamples = 17\\nvalue = [12, 5]'),\n",
       " Text(203.8846153846154, 446.96000000000004, 'gini = 0.0\\nsamples = 7\\nvalue = [7, 0]'),\n",
       " Text(209.6076923076923, 446.96000000000004, 'bmi <= 29.65\\ngini = 0.5\\nsamples = 10\\nvalue = [5, 5]'),\n",
       " Text(203.8846153846154, 422.80000000000007, 'age <= 31.5\\ngini = 0.375\\nsamples = 4\\nvalue = [3, 1]'),\n",
       " Text(201.02307692307693, 398.64000000000004, 'gini = 0.0\\nsamples = 3\\nvalue = [3, 0]'),\n",
       " Text(206.74615384615385, 398.64000000000004, 'gini = 0.0\\nsamples = 1\\nvalue = [0, 1]'),\n",
       " Text(215.33076923076922, 422.80000000000007, 'bmi <= 32.4\\ngini = 0.444\\nsamples = 6\\nvalue = [2, 4]'),\n",
       " Text(212.46923076923076, 398.64000000000004, 'gini = 0.0\\nsamples = 3\\nvalue = [0, 3]'),\n",
       " Text(218.1923076923077, 398.64000000000004, 'age <= 32.5\\ngini = 0.444\\nsamples = 3\\nvalue = [2, 1]'),\n",
       " Text(215.33076923076922, 374.4800000000001, 'gini = 0.0\\nsamples = 2\\nvalue = [2, 0]'),\n",
       " Text(221.05384615384617, 374.4800000000001, 'gini = 0.0\\nsamples = 1\\nvalue = [0, 1]'),\n",
       " Text(221.05384615384617, 471.12000000000006, 'age <= 36.5\\ngini = 0.095\\nsamples = 20\\nvalue = [19, 1]'),\n",
       " Text(218.1923076923077, 446.96000000000004, 'gini = 0.0\\nsamples = 18\\nvalue = [18, 0]'),\n",
       " Text(223.91538461538462, 446.96000000000004, 'bmi <= 32.15\\ngini = 0.5\\nsamples = 2\\nvalue = [1, 1]'),\n",
       " Text(221.05384615384617, 422.80000000000007, 'gini = 0.0\\nsamples = 1\\nvalue = [1, 0]'),\n",
       " Text(226.77692307692308, 422.80000000000007, 'gini = 0.0\\nsamples = 1\\nvalue = [0, 1]'),\n",
       " Text(219.62307692307692, 495.2800000000001, 'gini = 0.0\\nsamples = 55\\nvalue = [55, 0]'),\n",
       " Text(235.36153846153846, 567.76, 'region <= 0.5\\ngini = 0.473\\nsamples = 13\\nvalue = [8, 5]'),\n",
       " Text(232.5, 543.6, 'gini = 0.0\\nsamples = 1\\nvalue = [0, 1]'),\n",
       " Text(238.22307692307692, 543.6, 'region <= 2.5\\ngini = 0.444\\nsamples = 12\\nvalue = [8, 4]'),\n",
       " Text(232.5, 519.44, 'bmi <= 28.547\\ngini = 0.245\\nsamples = 7\\nvalue = [6, 1]'),\n",
       " Text(229.63846153846154, 495.2800000000001, 'bmi <= 26.6\\ngini = 0.444\\nsamples = 3\\nvalue = [2, 1]'),\n",
       " Text(226.77692307692308, 471.12000000000006, 'gini = 0.0\\nsamples = 2\\nvalue = [2, 0]'),\n",
       " Text(232.5, 471.12000000000006, 'gini = 0.0\\nsamples = 1\\nvalue = [0, 1]'),\n",
       " Text(235.36153846153846, 495.2800000000001, 'gini = 0.0\\nsamples = 4\\nvalue = [4, 0]'),\n",
       " Text(243.94615384615386, 519.44, 'children <= 0.5\\ngini = 0.48\\nsamples = 5\\nvalue = [2, 3]'),\n",
       " Text(241.08461538461538, 495.2800000000001, 'bmi <= 34.75\\ngini = 0.444\\nsamples = 3\\nvalue = [2, 1]'),\n",
       " Text(238.22307692307692, 471.12000000000006, 'gini = 0.0\\nsamples = 1\\nvalue = [1, 0]'),\n",
       " Text(243.94615384615386, 471.12000000000006, 'age <= 63.5\\ngini = 0.5\\nsamples = 2\\nvalue = [1, 1]'),\n",
       " Text(241.08461538461538, 446.96000000000004, 'gini = 0.0\\nsamples = 1\\nvalue = [0, 1]'),\n",
       " Text(246.80769230769232, 446.96000000000004, 'gini = 0.0\\nsamples = 1\\nvalue = [1, 0]'),\n",
       " Text(246.80769230769232, 495.2800000000001, 'gini = 0.0\\nsamples = 2\\nvalue = [0, 2]'),\n",
       " Text(434.21610576923075, 616.08, 'bmi <= 34.102\\ngini = 0.364\\nsamples = 481\\nvalue = [366, 115]'),\n",
       " Text(378.66201923076926, 591.9200000000001, 'bmi <= 31.917\\ngini = 0.335\\nsamples = 334\\nvalue = [263, 71]'),\n",
       " Text(347.40865384615387, 567.76, 'bmi <= 31.64\\ngini = 0.354\\nsamples = 278\\nvalue = [214, 64]'),\n",
       " Text(307.79423076923075, 543.6, 'children <= 3.5\\ngini = 0.341\\nsamples = 271\\nvalue = [212, 59]'),\n",
       " Text(304.9326923076923, 519.44, 'age <= 23.5\\ngini = 0.352\\nsamples = 259\\nvalue = [200, 59]'),\n",
       " Text(262.54615384615386, 495.2800000000001, 'bmi <= 27.282\\ngini = 0.245\\nsamples = 56\\nvalue = [48, 8]'),\n",
       " Text(255.3923076923077, 471.12000000000006, 'region <= 0.5\\ngini = 0.117\\nsamples = 32\\nvalue = [30, 2]'),\n",
       " Text(252.53076923076924, 446.96000000000004, 'age <= 19.5\\ngini = 0.278\\nsamples = 12\\nvalue = [10, 2]'),\n",
       " Text(249.66923076923078, 422.80000000000007, 'bmi <= 21.517\\ngini = 0.375\\nsamples = 8\\nvalue = [6, 2]'),\n",
       " Text(246.80769230769232, 398.64000000000004, 'gini = 0.0\\nsamples = 2\\nvalue = [2, 0]'),\n",
       " Text(252.53076923076924, 398.64000000000004, 'bmi <= 22.278\\ngini = 0.444\\nsamples = 6\\nvalue = [4, 2]'),\n",
       " Text(249.66923076923078, 374.4800000000001, 'gini = 0.0\\nsamples = 1\\nvalue = [0, 1]'),\n",
       " Text(255.3923076923077, 374.4800000000001, 'bmi <= 24.462\\ngini = 0.32\\nsamples = 5\\nvalue = [4, 1]'),\n",
       " Text(252.53076923076924, 350.32000000000005, 'gini = 0.0\\nsamples = 3\\nvalue = [3, 0]'),\n",
       " Text(258.25384615384615, 350.32000000000005, 'bmi <= 25.317\\ngini = 0.5\\nsamples = 2\\nvalue = [1, 1]'),\n",
       " Text(255.3923076923077, 326.16, 'gini = 0.0\\nsamples = 1\\nvalue = [0, 1]'),\n",
       " Text(261.11538461538464, 326.16, 'gini = 0.0\\nsamples = 1\\nvalue = [1, 0]'),\n",
       " Text(255.3923076923077, 422.80000000000007, 'gini = 0.0\\nsamples = 4\\nvalue = [4, 0]'),\n",
       " Text(258.25384615384615, 446.96000000000004, 'gini = 0.0\\nsamples = 20\\nvalue = [20, 0]'),\n",
       " Text(269.7, 471.12000000000006, 'bmi <= 27.767\\ngini = 0.375\\nsamples = 24\\nvalue = [18, 6]'),\n",
       " Text(263.9769230769231, 446.96000000000004, 'age <= 20.5\\ngini = 0.48\\nsamples = 5\\nvalue = [2, 3]'),\n",
       " Text(261.11538461538464, 422.80000000000007, 'bmi <= 27.48\\ngini = 0.375\\nsamples = 4\\nvalue = [1, 3]'),\n",
       " Text(258.25384615384615, 398.64000000000004, 'gini = 0.0\\nsamples = 2\\nvalue = [0, 2]'),\n",
       " Text(263.9769230769231, 398.64000000000004, 'bmi <= 27.65\\ngini = 0.5\\nsamples = 2\\nvalue = [1, 1]'),\n",
       " Text(261.11538461538464, 374.4800000000001, 'gini = 0.0\\nsamples = 1\\nvalue = [1, 0]'),\n",
       " Text(266.83846153846156, 374.4800000000001, 'gini = 0.0\\nsamples = 1\\nvalue = [0, 1]'),\n",
       " Text(266.83846153846156, 422.80000000000007, 'gini = 0.0\\nsamples = 1\\nvalue = [1, 0]'),\n",
       " Text(275.4230769230769, 446.96000000000004, 'children <= 0.5\\ngini = 0.266\\nsamples = 19\\nvalue = [16, 3]'),\n",
       " Text(272.5615384615385, 422.80000000000007, 'bmi <= 28.975\\ngini = 0.355\\nsamples = 13\\nvalue = [10, 3]'),\n",
       " Text(269.7, 398.64000000000004, 'gini = 0.0\\nsamples = 5\\nvalue = [5, 0]'),\n",
       " Text(275.4230769230769, 398.64000000000004, 'bmi <= 30.852\\ngini = 0.469\\nsamples = 8\\nvalue = [5, 3]'),\n",
       " Text(272.5615384615385, 374.4800000000001, 'age <= 18.5\\ngini = 0.48\\nsamples = 5\\nvalue = [2, 3]'),\n",
       " Text(269.7, 350.32000000000005, 'gini = 0.0\\nsamples = 1\\nvalue = [1, 0]'),\n",
       " Text(275.4230769230769, 350.32000000000005, 'bmi <= 30.42\\ngini = 0.375\\nsamples = 4\\nvalue = [1, 3]'),\n",
       " Text(272.5615384615385, 326.16, 'gini = 0.0\\nsamples = 2\\nvalue = [0, 2]'),\n",
       " Text(278.2846153846154, 326.16, 'region <= 0.5\\ngini = 0.5\\nsamples = 2\\nvalue = [1, 1]'),\n",
       " Text(275.4230769230769, 302.00000000000006, 'gini = 0.0\\nsamples = 1\\nvalue = [0, 1]'),\n",
       " Text(281.1461538461538, 302.00000000000006, 'gini = 0.0\\nsamples = 1\\nvalue = [1, 0]'),\n",
       " Text(278.2846153846154, 374.4800000000001, 'gini = 0.0\\nsamples = 3\\nvalue = [3, 0]'),\n",
       " Text(278.2846153846154, 422.80000000000007, 'gini = 0.0\\nsamples = 6\\nvalue = [6, 0]'),\n",
       " Text(347.3192307692308, 495.2800000000001, 'bmi <= 31.375\\ngini = 0.376\\nsamples = 203\\nvalue = [152, 51]'),\n",
       " Text(344.4576923076923, 471.12000000000006, 'age <= 24.5\\ngini = 0.386\\nsamples = 195\\nvalue = [144, 51]'),\n",
       " Text(319.0615384615385, 446.96000000000004, 'region <= 0.5\\ngini = 0.5\\nsamples = 6\\nvalue = [3, 3]'),\n",
       " Text(316.2, 422.80000000000007, 'gini = 0.0\\nsamples = 3\\nvalue = [0, 3]'),\n",
       " Text(321.9230769230769, 422.80000000000007, 'gini = 0.0\\nsamples = 3\\nvalue = [3, 0]'),\n",
       " Text(369.8538461538462, 446.96000000000004, 'region <= 1.5\\ngini = 0.379\\nsamples = 189\\nvalue = [141, 48]'),\n",
       " Text(327.6461538461539, 422.80000000000007, 'age <= 50.5\\ngini = 0.336\\nsamples = 117\\nvalue = [92, 25]'),\n",
       " Text(295.45384615384614, 398.64000000000004, 'bmi <= 22.8\\ngini = 0.278\\nsamples = 84\\nvalue = [70, 14]'),\n",
       " Text(292.5923076923077, 374.4800000000001, 'gini = 0.0\\nsamples = 14\\nvalue = [14, 0]'),\n",
       " Text(298.31538461538463, 374.4800000000001, 'bmi <= 23.275\\ngini = 0.32\\nsamples = 70\\nvalue = [56, 14]'),\n",
       " Text(295.45384615384614, 350.32000000000005, 'gini = 0.0\\nsamples = 3\\nvalue = [0, 3]'),\n",
       " Text(301.17692307692306, 350.32000000000005, 'age <= 32.5\\ngini = 0.274\\nsamples = 67\\nvalue = [56, 11]'),\n",
       " Text(289.7307692307692, 326.16, 'bmi <= 24.557\\ngini = 0.153\\nsamples = 24\\nvalue = [22, 2]'),\n",
       " Text(286.8692307692308, 302.00000000000006, 'gini = 0.0\\nsamples = 1\\nvalue = [0, 1]'),\n",
       " Text(292.5923076923077, 302.00000000000006, 'age <= 27.5\\ngini = 0.083\\nsamples = 23\\nvalue = [22, 1]'),\n",
       " Text(289.7307692307692, 277.84000000000003, 'age <= 26.5\\ngini = 0.198\\nsamples = 9\\nvalue = [8, 1]'),\n",
       " Text(286.8692307692308, 253.68000000000006, 'gini = 0.0\\nsamples = 7\\nvalue = [7, 0]'),\n",
       " Text(292.5923076923077, 253.68000000000006, 'region <= 0.5\\ngini = 0.5\\nsamples = 2\\nvalue = [1, 1]'),\n",
       " Text(289.7307692307692, 229.52000000000004, 'gini = 0.0\\nsamples = 1\\nvalue = [1, 0]'),\n",
       " Text(295.45384615384614, 229.52000000000004, 'gini = 0.0\\nsamples = 1\\nvalue = [0, 1]'),\n",
       " Text(295.45384615384614, 277.84000000000003, 'gini = 0.0\\nsamples = 14\\nvalue = [14, 0]'),\n",
       " Text(312.62307692307695, 326.16, 'age <= 35.5\\ngini = 0.331\\nsamples = 43\\nvalue = [34, 9]'),\n",
       " Text(304.03846153846155, 302.00000000000006, 'region <= 0.5\\ngini = 0.5\\nsamples = 6\\nvalue = [3, 3]'),\n",
       " Text(301.17692307692306, 277.84000000000003, 'gini = 0.0\\nsamples = 2\\nvalue = [0, 2]'),\n",
       " Text(306.9, 277.84000000000003, 'bmi <= 26.552\\ngini = 0.375\\nsamples = 4\\nvalue = [3, 1]'),\n",
       " Text(304.03846153846155, 253.68000000000006, 'gini = 0.0\\nsamples = 3\\nvalue = [3, 0]'),\n",
       " Text(309.76153846153846, 253.68000000000006, 'gini = 0.0\\nsamples = 1\\nvalue = [0, 1]'),\n",
       " Text(321.2076923076923, 302.00000000000006, 'age <= 38.5\\ngini = 0.272\\nsamples = 37\\nvalue = [31, 6]'),\n",
       " Text(318.34615384615387, 277.84000000000003, 'gini = 0.0\\nsamples = 10\\nvalue = [10, 0]'),\n",
       " Text(324.0692307692308, 277.84000000000003, 'age <= 39.5\\ngini = 0.346\\nsamples = 27\\nvalue = [21, 6]'),\n",
       " Text(315.4846153846154, 253.68000000000006, 'children <= 1.5\\ngini = 0.444\\nsamples = 3\\nvalue = [1, 2]'),\n",
       " Text(312.62307692307695, 229.52000000000004, 'gini = 0.0\\nsamples = 2\\nvalue = [0, 2]'),\n",
       " Text(318.34615384615387, 229.52000000000004, 'gini = 0.0\\nsamples = 1\\nvalue = [1, 0]'),\n",
       " Text(332.65384615384613, 253.68000000000006, 'bmi <= 30.638\\ngini = 0.278\\nsamples = 24\\nvalue = [20, 4]'),\n",
       " Text(324.0692307692308, 229.52000000000004, 'age <= 46.5\\ngini = 0.188\\nsamples = 19\\nvalue = [17, 2]'),\n",
       " Text(321.2076923076923, 205.36000000000007, 'gini = 0.0\\nsamples = 11\\nvalue = [11, 0]'),\n",
       " Text(326.9307692307692, 205.36000000000007, 'age <= 49.5\\ngini = 0.375\\nsamples = 8\\nvalue = [6, 2]'),\n",
       " Text(324.0692307692308, 181.20000000000005, 'bmi <= 29.023\\ngini = 0.48\\nsamples = 5\\nvalue = [3, 2]'),\n",
       " Text(321.2076923076923, 157.04000000000002, 'bmi <= 25.65\\ngini = 0.444\\nsamples = 3\\nvalue = [1, 2]'),\n",
       " Text(318.34615384615387, 132.88, 'gini = 0.0\\nsamples = 1\\nvalue = [1, 0]'),\n",
       " Text(324.0692307692308, 132.88, 'gini = 0.0\\nsamples = 2\\nvalue = [0, 2]'),\n",
       " Text(326.9307692307692, 157.04000000000002, 'gini = 0.0\\nsamples = 2\\nvalue = [2, 0]'),\n",
       " Text(329.7923076923077, 181.20000000000005, 'gini = 0.0\\nsamples = 3\\nvalue = [3, 0]'),\n",
       " Text(341.23846153846154, 229.52000000000004, 'region <= 0.5\\ngini = 0.48\\nsamples = 5\\nvalue = [3, 2]'),\n",
       " Text(338.3769230769231, 205.36000000000007, 'age <= 46.5\\ngini = 0.444\\nsamples = 3\\nvalue = [1, 2]'),\n",
       " Text(335.5153846153846, 181.20000000000005, 'gini = 0.0\\nsamples = 2\\nvalue = [0, 2]'),\n",
       " Text(341.23846153846154, 181.20000000000005, 'gini = 0.0\\nsamples = 1\\nvalue = [1, 0]'),\n",
       " Text(344.1, 205.36000000000007, 'gini = 0.0\\nsamples = 2\\nvalue = [2, 0]'),\n",
       " Text(359.83846153846156, 398.64000000000004, 'children <= 2.5\\ngini = 0.444\\nsamples = 33\\nvalue = [22, 11]'),\n",
       " Text(356.9769230769231, 374.4800000000001, 'age <= 52.5\\ngini = 0.391\\nsamples = 30\\nvalue = [22, 8]'),\n",
       " Text(354.11538461538464, 350.32000000000005, 'gini = 0.0\\nsamples = 2\\nvalue = [0, 2]'),\n",
       " Text(359.83846153846156, 350.32000000000005, 'bmi <= 26.552\\ngini = 0.337\\nsamples = 28\\nvalue = [22, 6]'),\n",
       " Text(354.11538461538464, 326.16, 'bmi <= 20.805\\ngini = 0.153\\nsamples = 12\\nvalue = [11, 1]'),\n",
       " Text(351.25384615384615, 302.00000000000006, 'age <= 56.5\\ngini = 0.5\\nsamples = 2\\nvalue = [1, 1]'),\n",
       " Text(348.3923076923077, 277.84000000000003, 'gini = 0.0\\nsamples = 1\\nvalue = [0, 1]'),\n",
       " Text(354.11538461538464, 277.84000000000003, 'gini = 0.0\\nsamples = 1\\nvalue = [1, 0]'),\n",
       " Text(356.9769230769231, 302.00000000000006, 'gini = 0.0\\nsamples = 10\\nvalue = [10, 0]'),\n",
       " Text(365.5615384615385, 326.16, 'bmi <= 27.122\\ngini = 0.43\\nsamples = 16\\nvalue = [11, 5]'),\n",
       " Text(362.7, 302.00000000000006, 'gini = 0.0\\nsamples = 2\\nvalue = [0, 2]'),\n",
       " Text(368.4230769230769, 302.00000000000006, 'bmi <= 30.59\\ngini = 0.337\\nsamples = 14\\nvalue = [11, 3]'),\n",
       " Text(361.2692307692308, 277.84000000000003, 'children <= 0.5\\ngini = 0.278\\nsamples = 12\\nvalue = [10, 2]'),\n",
       " Text(355.54615384615386, 253.68000000000006, 'region <= 0.5\\ngini = 0.18\\nsamples = 10\\nvalue = [9, 1]'),\n",
       " Text(352.68461538461537, 229.52000000000004, 'bmi <= 29.64\\ngini = 0.32\\nsamples = 5\\nvalue = [4, 1]'),\n",
       " Text(349.82307692307694, 205.36000000000007, 'age <= 56.0\\ngini = 0.444\\nsamples = 3\\nvalue = [2, 1]'),\n",
       " Text(346.96153846153845, 181.20000000000005, 'gini = 0.0\\nsamples = 1\\nvalue = [1, 0]'),\n",
       " Text(352.68461538461537, 181.20000000000005, 'age <= 58.5\\ngini = 0.5\\nsamples = 2\\nvalue = [1, 1]'),\n",
       " Text(349.82307692307694, 157.04000000000002, 'gini = 0.0\\nsamples = 1\\nvalue = [0, 1]'),\n",
       " Text(355.54615384615386, 157.04000000000002, 'gini = 0.0\\nsamples = 1\\nvalue = [1, 0]'),\n",
       " Text(355.54615384615386, 205.36000000000007, 'gini = 0.0\\nsamples = 2\\nvalue = [2, 0]'),\n",
       " Text(358.4076923076923, 229.52000000000004, 'gini = 0.0\\nsamples = 5\\nvalue = [5, 0]'),\n",
       " Text(366.9923076923077, 253.68000000000006, 'age <= 61.5\\ngini = 0.5\\nsamples = 2\\nvalue = [1, 1]'),\n",
       " Text(364.13076923076926, 229.52000000000004, 'gini = 0.0\\nsamples = 1\\nvalue = [0, 1]'),\n",
       " Text(369.8538461538462, 229.52000000000004, 'gini = 0.0\\nsamples = 1\\nvalue = [1, 0]'),\n",
       " Text(375.5769230769231, 277.84000000000003, 'age <= 54.0\\ngini = 0.5\\nsamples = 2\\nvalue = [1, 1]'),\n",
       " Text(372.7153846153846, 253.68000000000006, 'gini = 0.0\\nsamples = 1\\nvalue = [1, 0]'),\n",
       " Text(378.4384615384615, 253.68000000000006, 'gini = 0.0\\nsamples = 1\\nvalue = [0, 1]'),\n",
       " Text(362.7, 374.4800000000001, 'gini = 0.0\\nsamples = 3\\nvalue = [0, 3]'),\n",
       " Text(412.0615384615385, 422.80000000000007, 'bmi <= 20.265\\ngini = 0.435\\nsamples = 72\\nvalue = [49, 23]'),\n",
       " Text(409.2, 398.64000000000004, 'gini = 0.0\\nsamples = 2\\nvalue = [0, 2]'),\n",
       " Text(414.9230769230769, 398.64000000000004, 'children <= 0.5\\ngini = 0.42\\nsamples = 70\\nvalue = [49, 21]'),\n",
       " Text(399.90000000000003, 374.4800000000001, 'bmi <= 29.805\\ngini = 0.32\\nsamples = 30\\nvalue = [24, 6]'),\n",
       " Text(392.74615384615385, 350.32000000000005, 'age <= 63.0\\ngini = 0.219\\nsamples = 24\\nvalue = [21, 3]'),\n",
       " Text(389.8846153846154, 326.16, 'bmi <= 21.15\\ngini = 0.159\\nsamples = 23\\nvalue = [21, 2]'),\n",
       " Text(384.16153846153844, 302.00000000000006, 'region <= 2.5\\ngini = 0.444\\nsamples = 3\\nvalue = [2, 1]'),\n",
       " Text(381.3, 277.84000000000003, 'gini = 0.0\\nsamples = 1\\nvalue = [0, 1]'),\n",
       " Text(387.0230769230769, 277.84000000000003, 'gini = 0.0\\nsamples = 2\\nvalue = [2, 0]'),\n",
       " Text(395.60769230769233, 302.00000000000006, 'age <= 28.0\\ngini = 0.095\\nsamples = 20\\nvalue = [19, 1]'),\n",
       " Text(392.74615384615385, 277.84000000000003, 'bmi <= 27.445\\ngini = 0.444\\nsamples = 3\\nvalue = [2, 1]'),\n",
       " Text(389.8846153846154, 253.68000000000006, 'gini = 0.0\\nsamples = 2\\nvalue = [2, 0]'),\n",
       " Text(395.60769230769233, 253.68000000000006, 'gini = 0.0\\nsamples = 1\\nvalue = [0, 1]'),\n",
       " Text(398.46923076923076, 277.84000000000003, 'gini = 0.0\\nsamples = 17\\nvalue = [17, 0]'),\n",
       " Text(395.60769230769233, 326.16, 'gini = 0.0\\nsamples = 1\\nvalue = [0, 1]'),\n",
       " Text(407.05384615384617, 350.32000000000005, 'age <= 29.0\\ngini = 0.5\\nsamples = 6\\nvalue = [3, 3]'),\n",
       " Text(404.1923076923077, 326.16, 'gini = 0.0\\nsamples = 1\\nvalue = [1, 0]'),\n",
       " Text(409.9153846153846, 326.16, 'age <= 50.0\\ngini = 0.48\\nsamples = 5\\nvalue = [2, 3]'),\n",
       " Text(407.05384615384617, 302.00000000000006, 'bmi <= 30.125\\ngini = 0.375\\nsamples = 4\\nvalue = [1, 3]'),\n",
       " Text(404.1923076923077, 277.84000000000003, 'gini = 0.0\\nsamples = 2\\nvalue = [0, 2]'),\n",
       " Text(409.9153846153846, 277.84000000000003, 'age <= 39.0\\ngini = 0.5\\nsamples = 2\\nvalue = [1, 1]'),\n",
       " Text(407.05384615384617, 253.68000000000006, 'gini = 0.0\\nsamples = 1\\nvalue = [1, 0]'),\n",
       " Text(412.7769230769231, 253.68000000000006, 'gini = 0.0\\nsamples = 1\\nvalue = [0, 1]'),\n",
       " Text(412.7769230769231, 302.00000000000006, 'gini = 0.0\\nsamples = 1\\nvalue = [1, 0]'),\n",
       " Text(429.94615384615383, 374.4800000000001, 'bmi <= 26.345\\ngini = 0.469\\nsamples = 40\\nvalue = [25, 15]'),\n",
       " Text(424.2230769230769, 350.32000000000005, 'bmi <= 25.035\\ngini = 0.473\\nsamples = 13\\nvalue = [5, 8]'),\n",
       " Text(421.3615384615385, 326.16, 'bmi <= 22.495\\ngini = 0.408\\nsamples = 7\\nvalue = [5, 2]'),\n",
       " Text(418.5, 302.00000000000006, 'gini = 0.0\\nsamples = 3\\nvalue = [3, 0]'),\n",
       " Text(424.2230769230769, 302.00000000000006, 'bmi <= 23.505\\ngini = 0.5\\nsamples = 4\\nvalue = [2, 2]'),\n",
       " Text(421.3615384615385, 277.84000000000003, 'gini = 0.0\\nsamples = 1\\nvalue = [0, 1]'),\n",
       " Text(427.0846153846154, 277.84000000000003, 'children <= 2.5\\ngini = 0.444\\nsamples = 3\\nvalue = [2, 1]'),\n",
       " Text(424.2230769230769, 253.68000000000006, 'gini = 0.0\\nsamples = 2\\nvalue = [2, 0]'),\n",
       " Text(429.94615384615383, 253.68000000000006, 'gini = 0.0\\nsamples = 1\\nvalue = [0, 1]'),\n",
       " Text(427.0846153846154, 326.16, 'gini = 0.0\\nsamples = 6\\nvalue = [0, 6]'),\n",
       " Text(435.66923076923075, 350.32000000000005, 'bmi <= 30.965\\ngini = 0.384\\nsamples = 27\\nvalue = [20, 7]'),\n",
       " Text(432.8076923076923, 326.16, 'bmi <= 27.805\\ngini = 0.355\\nsamples = 26\\nvalue = [20, 6]'),\n",
       " Text(429.94615384615383, 302.00000000000006, 'gini = 0.0\\nsamples = 6\\nvalue = [6, 0]'),\n",
       " Text(435.66923076923075, 302.00000000000006, 'bmi <= 28.135\\ngini = 0.42\\nsamples = 20\\nvalue = [14, 6]'),\n",
       " Text(432.8076923076923, 277.84000000000003, 'gini = 0.0\\nsamples = 1\\nvalue = [0, 1]'),\n",
       " Text(438.53076923076924, 277.84000000000003, 'age <= 25.5\\ngini = 0.388\\nsamples = 19\\nvalue = [14, 5]'),\n",
       " Text(435.66923076923075, 253.68000000000006, 'gini = 0.0\\nsamples = 1\\nvalue = [0, 1]'),\n",
       " Text(441.3923076923077, 253.68000000000006, 'bmi <= 30.25\\ngini = 0.346\\nsamples = 18\\nvalue = [14, 4]'),\n",
       " Text(438.53076923076924, 229.52000000000004, 'age <= 48.0\\ngini = 0.408\\nsamples = 14\\nvalue = [10, 4]'),\n",
       " Text(435.66923076923075, 205.36000000000007, 'bmi <= 28.915\\ngini = 0.48\\nsamples = 10\\nvalue = [6, 4]'),\n",
       " Text(429.94615384615383, 181.20000000000005, 'bmi <= 28.5\\ngini = 0.32\\nsamples = 5\\nvalue = [4, 1]'),\n",
       " Text(427.0846153846154, 157.04000000000002, 'age <= 38.5\\ngini = 0.5\\nsamples = 2\\nvalue = [1, 1]'),\n",
       " Text(424.2230769230769, 132.88, 'gini = 0.0\\nsamples = 1\\nvalue = [1, 0]'),\n",
       " Text(429.94615384615383, 132.88, 'gini = 0.0\\nsamples = 1\\nvalue = [0, 1]'),\n",
       " Text(432.8076923076923, 157.04000000000002, 'gini = 0.0\\nsamples = 3\\nvalue = [3, 0]'),\n",
       " Text(441.3923076923077, 181.20000000000005, 'bmi <= 29.9\\ngini = 0.48\\nsamples = 5\\nvalue = [2, 3]'),\n",
       " Text(438.53076923076924, 157.04000000000002, 'gini = 0.0\\nsamples = 2\\nvalue = [0, 2]'),\n",
       " Text(444.25384615384615, 157.04000000000002, 'children <= 1.5\\ngini = 0.444\\nsamples = 3\\nvalue = [2, 1]'),\n",
       " Text(441.3923076923077, 132.88, 'gini = 0.0\\nsamples = 2\\nvalue = [2, 0]'),\n",
       " Text(447.11538461538464, 132.88, 'gini = 0.0\\nsamples = 1\\nvalue = [0, 1]'),\n",
       " Text(441.3923076923077, 205.36000000000007, 'gini = 0.0\\nsamples = 4\\nvalue = [4, 0]'),\n",
       " Text(444.25384615384615, 229.52000000000004, 'gini = 0.0\\nsamples = 4\\nvalue = [4, 0]'),\n",
       " Text(438.53076923076924, 326.16, 'gini = 0.0\\nsamples = 1\\nvalue = [0, 1]'),\n",
       " Text(350.1807692307692, 471.12000000000006, 'gini = 0.0\\nsamples = 8\\nvalue = [8, 0]'),\n",
       " Text(310.65576923076924, 519.44, 'gini = 0.0\\nsamples = 12\\nvalue = [12, 0]'),\n",
       " Text(387.0230769230769, 543.6, 'age <= 57.5\\ngini = 0.408\\nsamples = 7\\nvalue = [2, 5]'),\n",
       " Text(384.16153846153844, 519.44, 'children <= 1.0\\ngini = 0.278\\nsamples = 6\\nvalue = [1, 5]'),\n",
       " Text(381.3, 495.2800000000001, 'bmi <= 31.778\\ngini = 0.444\\nsamples = 3\\nvalue = [1, 2]'),\n",
       " Text(378.4384615384615, 471.12000000000006, 'age <= 20.0\\ngini = 0.5\\nsamples = 2\\nvalue = [1, 1]'),\n",
       " Text(375.5769230769231, 446.96000000000004, 'gini = 0.0\\nsamples = 1\\nvalue = [0, 1]'),\n",
       " Text(381.3, 446.96000000000004, 'gini = 0.0\\nsamples = 1\\nvalue = [1, 0]'),\n",
       " Text(384.16153846153844, 471.12000000000006, 'gini = 0.0\\nsamples = 1\\nvalue = [0, 1]'),\n",
       " Text(387.0230769230769, 495.2800000000001, 'gini = 0.0\\nsamples = 3\\nvalue = [0, 3]'),\n",
       " Text(389.8846153846154, 519.44, 'gini = 0.0\\nsamples = 1\\nvalue = [1, 0]'),\n",
       " Text(409.9153846153846, 567.76, 'region <= 0.5\\ngini = 0.219\\nsamples = 56\\nvalue = [49, 7]'),\n",
       " Text(398.46923076923076, 543.6, 'age <= 39.0\\ngini = 0.397\\nsamples = 11\\nvalue = [8, 3]'),\n",
       " Text(395.60769230769233, 519.44, 'gini = 0.0\\nsamples = 2\\nvalue = [0, 2]'),\n",
       " Text(401.33076923076925, 519.44, 'age <= 50.5\\ngini = 0.198\\nsamples = 9\\nvalue = [8, 1]'),\n",
       " Text(398.46923076923076, 495.2800000000001, 'children <= 1.5\\ngini = 0.444\\nsamples = 3\\nvalue = [2, 1]'),\n",
       " Text(395.60769230769233, 471.12000000000006, 'age <= 48.0\\ngini = 0.5\\nsamples = 2\\nvalue = [1, 1]'),\n",
       " Text(392.74615384615385, 446.96000000000004, 'gini = 0.0\\nsamples = 1\\nvalue = [1, 0]'),\n",
       " Text(398.46923076923076, 446.96000000000004, 'gini = 0.0\\nsamples = 1\\nvalue = [0, 1]'),\n",
       " Text(401.33076923076925, 471.12000000000006, 'gini = 0.0\\nsamples = 1\\nvalue = [1, 0]'),\n",
       " Text(404.1923076923077, 495.2800000000001, 'gini = 0.0\\nsamples = 6\\nvalue = [6, 0]'),\n",
       " Text(421.3615384615385, 543.6, 'region <= 2.5\\ngini = 0.162\\nsamples = 45\\nvalue = [41, 4]'),\n",
       " Text(412.7769230769231, 519.44, 'age <= 25.5\\ngini = 0.057\\nsamples = 34\\nvalue = [33, 1]'),\n",
       " Text(409.9153846153846, 495.2800000000001, 'age <= 24.5\\ngini = 0.219\\nsamples = 8\\nvalue = [7, 1]'),\n",
       " Text(407.05384615384617, 471.12000000000006, 'gini = 0.0\\nsamples = 6\\nvalue = [6, 0]'),\n",
       " Text(412.7769230769231, 471.12000000000006, 'children <= 3.0\\ngini = 0.5\\nsamples = 2\\nvalue = [1, 1]'),\n",
       " Text(409.9153846153846, 446.96000000000004, 'gini = 0.0\\nsamples = 1\\nvalue = [0, 1]'),\n",
       " Text(415.63846153846157, 446.96000000000004, 'gini = 0.0\\nsamples = 1\\nvalue = [1, 0]'),\n",
       " Text(415.63846153846157, 495.2800000000001, 'gini = 0.0\\nsamples = 26\\nvalue = [26, 0]'),\n",
       " Text(429.94615384615383, 519.44, 'children <= 3.5\\ngini = 0.397\\nsamples = 11\\nvalue = [8, 3]'),\n",
       " Text(427.0846153846154, 495.2800000000001, 'children <= 0.5\\ngini = 0.32\\nsamples = 10\\nvalue = [8, 2]'),\n",
       " Text(424.2230769230769, 471.12000000000006, 'bmi <= 32.95\\ngini = 0.5\\nsamples = 4\\nvalue = [2, 2]'),\n",
       " Text(421.3615384615385, 446.96000000000004, 'gini = 0.0\\nsamples = 2\\nvalue = [0, 2]'),\n",
       " Text(427.0846153846154, 446.96000000000004, 'gini = 0.0\\nsamples = 2\\nvalue = [2, 0]'),\n",
       " Text(429.94615384615383, 471.12000000000006, 'gini = 0.0\\nsamples = 6\\nvalue = [6, 0]'),\n",
       " Text(432.8076923076923, 495.2800000000001, 'gini = 0.0\\nsamples = 1\\nvalue = [0, 1]'),\n",
       " Text(489.7701923076923, 591.9200000000001, 'bmi <= 36.685\\ngini = 0.419\\nsamples = 147\\nvalue = [103, 44]'),\n",
       " Text(464.46346153846156, 567.76, 'bmi <= 36.25\\ngini = 0.496\\nsamples = 55\\nvalue = [30, 25]'),\n",
       " Text(453.91153846153844, 543.6, 'region <= 1.5\\ngini = 0.486\\nsamples = 48\\nvalue = [28, 20]'),\n",
       " Text(441.3923076923077, 519.44, 'children <= 2.5\\ngini = 0.298\\nsamples = 11\\nvalue = [9, 2]'),\n",
       " Text(438.53076923076924, 495.2800000000001, 'bmi <= 34.247\\ngini = 0.18\\nsamples = 10\\nvalue = [9, 1]'),\n",
       " Text(435.66923076923075, 471.12000000000006, 'age <= 46.5\\ngini = 0.5\\nsamples = 2\\nvalue = [1, 1]'),\n",
       " Text(432.8076923076923, 446.96000000000004, 'gini = 0.0\\nsamples = 1\\nvalue = [1, 0]'),\n",
       " Text(438.53076923076924, 446.96000000000004, 'gini = 0.0\\nsamples = 1\\nvalue = [0, 1]'),\n",
       " Text(441.3923076923077, 471.12000000000006, 'gini = 0.0\\nsamples = 8\\nvalue = [8, 0]'),\n",
       " Text(444.25384615384615, 495.2800000000001, 'gini = 0.0\\nsamples = 1\\nvalue = [0, 1]'),\n",
       " Text(466.4307692307692, 519.44, 'bmi <= 36.195\\ngini = 0.5\\nsamples = 37\\nvalue = [19, 18]'),\n",
       " Text(463.5692307692308, 495.2800000000001, 'children <= 1.5\\ngini = 0.5\\nsamples = 35\\nvalue = [17, 18]'),\n",
       " Text(454.2692307692308, 471.12000000000006, 'age <= 27.5\\ngini = 0.476\\nsamples = 23\\nvalue = [9, 14]'),\n",
       " Text(444.25384615384615, 446.96000000000004, 'region <= 2.5\\ngini = 0.469\\nsamples = 8\\nvalue = [5, 3]'),\n",
       " Text(441.3923076923077, 422.80000000000007, 'gini = 0.0\\nsamples = 4\\nvalue = [4, 0]'),\n",
       " Text(447.11538461538464, 422.80000000000007, 'bmi <= 35.15\\ngini = 0.375\\nsamples = 4\\nvalue = [1, 3]'),\n",
       " Text(444.25384615384615, 398.64000000000004, 'gini = 0.0\\nsamples = 2\\nvalue = [0, 2]'),\n",
       " Text(449.9769230769231, 398.64000000000004, 'bmi <= 35.5\\ngini = 0.5\\nsamples = 2\\nvalue = [1, 1]'),\n",
       " Text(447.11538461538464, 374.4800000000001, 'gini = 0.0\\nsamples = 1\\nvalue = [1, 0]'),\n",
       " Text(452.83846153846156, 374.4800000000001, 'gini = 0.0\\nsamples = 1\\nvalue = [0, 1]'),\n",
       " Text(464.2846153846154, 446.96000000000004, 'age <= 63.5\\ngini = 0.391\\nsamples = 15\\nvalue = [4, 11]'),\n",
       " Text(461.4230769230769, 422.80000000000007, 'bmi <= 34.305\\ngini = 0.337\\nsamples = 14\\nvalue = [3, 11]'),\n",
       " Text(458.5615384615385, 398.64000000000004, 'gini = 0.0\\nsamples = 1\\nvalue = [1, 0]'),\n",
       " Text(464.2846153846154, 398.64000000000004, 'bmi <= 36.135\\ngini = 0.26\\nsamples = 13\\nvalue = [2, 11]'),\n",
       " Text(458.5615384615385, 374.4800000000001, 'region <= 2.5\\ngini = 0.165\\nsamples = 11\\nvalue = [1, 10]'),\n",
       " Text(455.7, 350.32000000000005, 'gini = 0.0\\nsamples = 8\\nvalue = [0, 8]'),\n",
       " Text(461.4230769230769, 350.32000000000005, 'bmi <= 35.5\\ngini = 0.444\\nsamples = 3\\nvalue = [1, 2]'),\n",
       " Text(458.5615384615385, 326.16, 'gini = 0.0\\nsamples = 2\\nvalue = [0, 2]'),\n",
       " Text(464.2846153846154, 326.16, 'gini = 0.0\\nsamples = 1\\nvalue = [1, 0]'),\n",
       " Text(470.0076923076923, 374.4800000000001, 'age <= 42.0\\ngini = 0.5\\nsamples = 2\\nvalue = [1, 1]'),\n",
       " Text(467.1461538461539, 350.32000000000005, 'gini = 0.0\\nsamples = 1\\nvalue = [1, 0]'),\n",
       " Text(472.8692307692308, 350.32000000000005, 'gini = 0.0\\nsamples = 1\\nvalue = [0, 1]'),\n",
       " Text(467.1461538461539, 422.80000000000007, 'gini = 0.0\\nsamples = 1\\nvalue = [1, 0]'),\n",
       " Text(472.8692307692308, 471.12000000000006, 'bmi <= 34.255\\ngini = 0.444\\nsamples = 12\\nvalue = [8, 4]'),\n",
       " Text(470.0076923076923, 446.96000000000004, 'gini = 0.0\\nsamples = 2\\nvalue = [0, 2]'),\n",
       " Text(475.7307692307692, 446.96000000000004, 'bmi <= 35.35\\ngini = 0.32\\nsamples = 10\\nvalue = [8, 2]'),\n",
       " Text(472.8692307692308, 422.80000000000007, 'gini = 0.0\\nsamples = 5\\nvalue = [5, 0]'),\n",
       " Text(478.5923076923077, 422.80000000000007, 'age <= 31.0\\ngini = 0.48\\nsamples = 5\\nvalue = [3, 2]'),\n",
       " Text(475.7307692307692, 398.64000000000004, 'gini = 0.0\\nsamples = 1\\nvalue = [0, 1]'),\n",
       " Text(481.45384615384614, 398.64000000000004, 'children <= 2.5\\ngini = 0.375\\nsamples = 4\\nvalue = [3, 1]'),\n",
       " Text(478.5923076923077, 374.4800000000001, 'gini = 0.0\\nsamples = 2\\nvalue = [2, 0]'),\n",
       " Text(484.31538461538463, 374.4800000000001, 'region <= 2.5\\ngini = 0.5\\nsamples = 2\\nvalue = [1, 1]'),\n",
       " Text(481.45384615384614, 350.32000000000005, 'gini = 0.0\\nsamples = 1\\nvalue = [0, 1]'),\n",
       " Text(487.17692307692306, 350.32000000000005, 'gini = 0.0\\nsamples = 1\\nvalue = [1, 0]'),\n",
       " Text(469.2923076923077, 495.2800000000001, 'gini = 0.0\\nsamples = 2\\nvalue = [2, 0]'),\n",
       " Text(475.0153846153846, 543.6, 'bmi <= 36.54\\ngini = 0.408\\nsamples = 7\\nvalue = [2, 5]'),\n",
       " Text(472.1538461538462, 519.44, 'gini = 0.0\\nsamples = 4\\nvalue = [0, 4]'),\n",
       " Text(477.8769230769231, 519.44, 'age <= 41.5\\ngini = 0.444\\nsamples = 3\\nvalue = [2, 1]'),\n",
       " Text(475.0153846153846, 495.2800000000001, 'gini = 0.0\\nsamples = 1\\nvalue = [0, 1]'),\n",
       " Text(480.73846153846154, 495.2800000000001, 'gini = 0.0\\nsamples = 2\\nvalue = [2, 0]'),\n",
       " Text(515.0769230769231, 567.76, 'children <= 1.5\\ngini = 0.328\\nsamples = 92\\nvalue = [73, 19]'),\n",
       " Text(495.04615384615386, 543.6, 'age <= 27.5\\ngini = 0.228\\nsamples = 61\\nvalue = [53, 8]'),\n",
       " Text(489.32307692307694, 519.44, 'region <= 1.5\\ngini = 0.457\\nsamples = 17\\nvalue = [11, 6]'),\n",
       " Text(486.46153846153845, 495.2800000000001, 'gini = 0.0\\nsamples = 3\\nvalue = [3, 0]'),\n",
       " Text(492.18461538461537, 495.2800000000001, 'bmi <= 37.455\\ngini = 0.49\\nsamples = 14\\nvalue = [8, 6]'),\n",
       " Text(489.32307692307694, 471.12000000000006, 'gini = 0.0\\nsamples = 2\\nvalue = [2, 0]'),\n",
       " Text(495.04615384615386, 471.12000000000006, 'bmi <= 38.835\\ngini = 0.5\\nsamples = 12\\nvalue = [6, 6]'),\n",
       " Text(492.18461538461537, 446.96000000000004, 'gini = 0.0\\nsamples = 2\\nvalue = [0, 2]'),\n",
       " Text(497.90769230769234, 446.96000000000004, 'age <= 18.5\\ngini = 0.48\\nsamples = 10\\nvalue = [6, 4]'),\n",
       " Text(495.04615384615386, 422.80000000000007, 'gini = 0.0\\nsamples = 2\\nvalue = [2, 0]'),\n",
       " Text(500.7692307692308, 422.80000000000007, 'age <= 20.5\\ngini = 0.5\\nsamples = 8\\nvalue = [4, 4]'),\n",
       " Text(497.90769230769234, 398.64000000000004, 'gini = 0.0\\nsamples = 1\\nvalue = [0, 1]'),\n",
       " Text(503.63076923076926, 398.64000000000004, 'age <= 26.5\\ngini = 0.49\\nsamples = 7\\nvalue = [4, 3]'),\n",
       " Text(500.7692307692308, 374.4800000000001, 'bmi <= 51.48\\ngini = 0.444\\nsamples = 6\\nvalue = [4, 2]'),\n",
       " Text(497.90769230769234, 350.32000000000005, 'age <= 23.5\\ngini = 0.32\\nsamples = 5\\nvalue = [4, 1]'),\n",
       " Text(495.04615384615386, 326.16, 'gini = 0.0\\nsamples = 3\\nvalue = [3, 0]'),\n",
       " Text(500.7692307692308, 326.16, 'bmi <= 43.34\\ngini = 0.5\\nsamples = 2\\nvalue = [1, 1]'),\n",
       " Text(497.90769230769234, 302.00000000000006, 'gini = 0.0\\nsamples = 1\\nvalue = [0, 1]'),\n",
       " Text(503.63076923076926, 302.00000000000006, 'gini = 0.0\\nsamples = 1\\nvalue = [1, 0]'),\n",
       " Text(503.63076923076926, 350.32000000000005, 'gini = 0.0\\nsamples = 1\\nvalue = [0, 1]'),\n",
       " Text(506.4923076923077, 374.4800000000001, 'gini = 0.0\\nsamples = 1\\nvalue = [0, 1]'),\n",
       " Text(500.7692307692308, 519.44, 'age <= 59.5\\ngini = 0.087\\nsamples = 44\\nvalue = [42, 2]'),\n",
       " Text(497.90769230769234, 495.2800000000001, 'gini = 0.0\\nsamples = 34\\nvalue = [34, 0]'),\n",
       " Text(503.63076923076926, 495.2800000000001, 'age <= 60.5\\ngini = 0.32\\nsamples = 10\\nvalue = [8, 2]'),\n",
       " Text(500.7692307692308, 471.12000000000006, 'gini = 0.0\\nsamples = 2\\nvalue = [0, 2]'),\n",
       " Text(506.4923076923077, 471.12000000000006, 'gini = 0.0\\nsamples = 8\\nvalue = [8, 0]'),\n",
       " Text(535.1076923076923, 543.6, 'age <= 46.5\\ngini = 0.458\\nsamples = 31\\nvalue = [20, 11]'),\n",
       " Text(520.8, 519.44, 'children <= 2.5\\ngini = 0.346\\nsamples = 18\\nvalue = [14, 4]'),\n",
       " Text(515.0769230769231, 495.2800000000001, 'region <= 2.5\\ngini = 0.153\\nsamples = 12\\nvalue = [11, 1]'),\n",
       " Text(512.2153846153847, 471.12000000000006, 'gini = 0.0\\nsamples = 10\\nvalue = [10, 0]'),\n",
       " Text(517.9384615384615, 471.12000000000006, 'age <= 37.0\\ngini = 0.5\\nsamples = 2\\nvalue = [1, 1]'),\n",
       " Text(515.0769230769231, 446.96000000000004, 'gini = 0.0\\nsamples = 1\\nvalue = [0, 1]'),\n",
       " Text(520.8, 446.96000000000004, 'gini = 0.0\\nsamples = 1\\nvalue = [1, 0]'),\n",
       " Text(526.5230769230769, 495.2800000000001, 'age <= 33.0\\ngini = 0.5\\nsamples = 6\\nvalue = [3, 3]'),\n",
       " Text(523.6615384615385, 471.12000000000006, 'gini = 0.0\\nsamples = 2\\nvalue = [2, 0]'),\n",
       " Text(529.3846153846154, 471.12000000000006, 'bmi <= 43.12\\ngini = 0.375\\nsamples = 4\\nvalue = [1, 3]'),\n",
       " Text(526.5230769230769, 446.96000000000004, 'gini = 0.0\\nsamples = 3\\nvalue = [0, 3]'),\n",
       " Text(532.2461538461539, 446.96000000000004, 'gini = 0.0\\nsamples = 1\\nvalue = [1, 0]'),\n",
       " Text(549.4153846153846, 519.44, 'region <= 2.5\\ngini = 0.497\\nsamples = 13\\nvalue = [6, 7]'),\n",
       " Text(546.5538461538462, 495.2800000000001, 'bmi <= 38.225\\ngini = 0.463\\nsamples = 11\\nvalue = [4, 7]'),\n",
       " Text(540.8307692307692, 471.12000000000006, 'age <= 55.0\\ngini = 0.48\\nsamples = 5\\nvalue = [3, 2]'),\n",
       " Text(537.9692307692308, 446.96000000000004, 'gini = 0.0\\nsamples = 3\\nvalue = [3, 0]'),\n",
       " Text(543.6923076923077, 446.96000000000004, 'gini = 0.0\\nsamples = 2\\nvalue = [0, 2]'),\n",
       " Text(552.2769230769231, 471.12000000000006, 'age <= 58.5\\ngini = 0.278\\nsamples = 6\\nvalue = [1, 5]'),\n",
       " Text(549.4153846153846, 446.96000000000004, 'gini = 0.0\\nsamples = 5\\nvalue = [0, 5]'),\n",
       " Text(555.1384615384616, 446.96000000000004, 'gini = 0.0\\nsamples = 1\\nvalue = [1, 0]'),\n",
       " Text(552.2769230769231, 495.2800000000001, 'gini = 0.0\\nsamples = 2\\nvalue = [2, 0]')]"
      ]
     },
     "execution_count": 21,
     "metadata": {},
     "output_type": "execute_result"
    },
    {
     "data": {
      "image/png": "[encoded data removed]",
      "text/plain": [
       "<Figure size 720x864 with 1 Axes>"
      ]
     },
     "metadata": {
      "needs_background": "light"
     },
     "output_type": "display_data"
    }
   ],
   "source": [
    "plt.figure(figsize=(10,12))\n",
    "tree.plot_tree(clf,filled=True,rounded=True,feature_names=x.columns)"
   ]
  },
  {
   "cell_type": "markdown",
   "id": "28f05da5",
   "metadata": {},
   "source": [
    "# Prediction for testing dataset"
   ]
  },
  {
   "cell_type": "code",
   "execution_count": 22,
   "id": "1e996f44",
   "metadata": {},
   "outputs": [],
   "source": [
    "pred= clf.predict(xtest)"
   ]
  },
  {
   "cell_type": "code",
   "execution_count": 23,
   "id": "978f98d3",
   "metadata": {},
   "outputs": [
    {
     "data": {
      "text/plain": [
       "array([0, 0, 1, 0, 0, 0, 0, 0, 0, 0, 0, 0, 0, 0, 0, 1, 0, 0, 0, 0, 0, 0,\n",
       "       0, 0, 0, 0, 0, 0, 0, 1, 0, 0, 1, 0, 1, 0, 1, 0, 0, 1, 1, 0, 0, 0,\n",
       "       0, 0, 0, 0, 0, 0, 0, 0, 0, 0, 0, 0, 0, 0, 1, 1, 0, 1, 1, 0, 0, 0,\n",
       "       0, 1, 1, 0, 0, 1, 0, 1, 0, 0, 0, 0, 1, 1, 1, 0, 0, 0, 1, 0, 0, 1,\n",
       "       0, 0, 1, 1, 1, 1, 1, 0, 0, 0, 1, 1, 1, 1, 1, 0, 0, 0, 0, 0, 1, 1,\n",
       "       0, 1, 0, 1, 0, 1, 0, 0, 0, 0, 0, 0, 0, 1, 0, 1, 0, 0, 0, 0, 0, 0,\n",
       "       0, 0, 1, 0, 0, 0, 0, 0, 0, 0, 0, 0, 0, 0, 0, 0, 0, 0, 0, 1, 0, 0,\n",
       "       0, 0, 0, 0, 0, 1, 1, 0, 1, 0, 1, 0, 0, 1, 0, 1, 0, 1, 0, 1, 0, 0,\n",
       "       0, 0, 0, 0, 0, 0, 0, 0, 0, 0, 1, 0, 0, 0, 0, 0, 0, 1, 1, 0, 0, 0,\n",
       "       1, 1, 0, 0, 0, 0, 0, 0, 1, 0, 0, 0, 0, 0, 0, 1, 0, 1, 1, 1, 0, 1,\n",
       "       0, 1, 1, 0, 0, 0, 1, 0, 0, 0, 0, 0, 0, 1, 0, 1, 1, 0, 1, 0, 0, 0,\n",
       "       0, 1, 0, 1, 0, 1, 0, 1, 0, 0, 0, 0, 1, 1, 0, 0, 0, 0, 0, 0, 0, 0,\n",
       "       0, 0, 0, 1, 0, 0, 1, 0, 1, 0, 1, 0, 0, 1, 1, 1, 0, 1, 0, 0, 0, 0,\n",
       "       1, 0, 0, 0, 1, 0, 0, 0, 0, 0, 1, 0, 0, 0, 0, 0, 0, 0, 1, 0, 1, 0,\n",
       "       0, 0, 0, 0, 1, 0, 0, 0, 0, 0, 0, 0, 0, 0, 0, 1, 0, 0, 0, 1, 1, 0,\n",
       "       0, 0, 0, 0, 0, 0, 0, 0, 0, 1, 0, 0, 1, 0, 0, 0, 1, 0, 1, 0, 0, 1,\n",
       "       0, 0, 0, 0, 1, 0, 0, 0, 0, 1, 0, 0, 0, 0, 1, 0, 0, 0, 0, 0, 0, 0,\n",
       "       1, 0, 1, 1, 0, 1, 0, 0, 0, 0, 1, 0, 0, 1, 0, 1, 0, 0, 0, 0, 0, 0,\n",
       "       1, 1, 0, 0, 0, 0])"
      ]
     },
     "execution_count": 23,
     "metadata": {},
     "output_type": "execute_result"
    }
   ],
   "source": [
    "pred"
   ]
  },
  {
   "cell_type": "code",
   "execution_count": 24,
   "id": "f89a855d",
   "metadata": {},
   "outputs": [
    {
     "data": {
      "text/plain": [
       "array([1])"
      ]
     },
     "execution_count": 24,
     "metadata": {},
     "output_type": "execute_result"
    }
   ],
   "source": [
    "clf.predict([[3,19,0,27.900,0]]) # yes=1"
   ]
  },
  {
   "cell_type": "code",
   "execution_count": 25,
   "id": "5d6928f9",
   "metadata": {},
   "outputs": [
    {
     "data": {
      "text/plain": [
       "array([0])"
      ]
     },
     "execution_count": 25,
     "metadata": {},
     "output_type": "execute_result"
    }
   ],
   "source": [
    "clf.predict([[1,32,1,28.880,0]])# no = 0"
   ]
  },
  {
   "cell_type": "markdown",
   "id": "302a5438",
   "metadata": {},
   "source": [
    "# Finding accuracy"
   ]
  },
  {
   "cell_type": "code",
   "execution_count": 26,
   "id": "52d29b2f",
   "metadata": {},
   "outputs": [
    {
     "data": {
      "text/plain": [
       "0.9989316239316239"
      ]
     },
     "execution_count": 26,
     "metadata": {},
     "output_type": "execute_result"
    }
   ],
   "source": [
    "clf.score(xtrain, ytrain)"
   ]
  },
  {
   "cell_type": "code",
   "execution_count": 27,
   "id": "35ccac49",
   "metadata": {},
   "outputs": [
    {
     "data": {
      "text/plain": [
       "0.6467661691542289"
      ]
     },
     "execution_count": 27,
     "metadata": {},
     "output_type": "execute_result"
    }
   ],
   "source": [
    "clf.score(xtest, ytest)"
   ]
  },
  {
   "cell_type": "code",
   "execution_count": 28,
   "id": "80ea82bb",
   "metadata": {},
   "outputs": [],
   "source": [
    "from sklearn.metrics import classification_report, confusion_matrix,roc_curve, plot_roc_curve"
   ]
  },
  {
   "cell_type": "code",
   "execution_count": 29,
   "id": "cd137398",
   "metadata": {},
   "outputs": [
    {
     "name": "stdout",
     "output_type": "stream",
     "text": [
      "              precision    recall  f1-score   support\n",
      "\n",
      "           0       0.81      0.73      0.77       328\n",
      "           1       0.18      0.26      0.21        74\n",
      "\n",
      "    accuracy                           0.65       402\n",
      "   macro avg       0.50      0.50      0.49       402\n",
      "weighted avg       0.70      0.65      0.67       402\n",
      "\n"
     ]
    }
   ],
   "source": [
    "print(classification_report(ytest, pred))"
   ]
  },
  {
   "cell_type": "code",
   "execution_count": 30,
   "id": "ad82aabb",
   "metadata": {},
   "outputs": [
    {
     "data": {
      "text/plain": [
       "(402, 5)"
      ]
     },
     "execution_count": 30,
     "metadata": {},
     "output_type": "execute_result"
    }
   ],
   "source": [
    "xtest.shape"
   ]
  },
  {
   "cell_type": "code",
   "execution_count": 31,
   "id": "d8ae0721",
   "metadata": {},
   "outputs": [],
   "source": [
    "con_mat = confusion_matrix(ytest, pred)"
   ]
  },
  {
   "cell_type": "code",
   "execution_count": 32,
   "id": "6612db52",
   "metadata": {},
   "outputs": [
    {
     "data": {
      "text/plain": [
       "array([[241,  87],\n",
       "       [ 55,  19]])"
      ]
     },
     "execution_count": 32,
     "metadata": {},
     "output_type": "execute_result"
    }
   ],
   "source": [
    "con_mat "
   ]
  },
  {
   "cell_type": "code",
   "execution_count": 33,
   "id": "c9b7eccc",
   "metadata": {},
   "outputs": [
    {
     "data": {
      "text/plain": [
       "<AxesSubplot:>"
      ]
     },
     "execution_count": 33,
     "metadata": {},
     "output_type": "execute_result"
    },
    {
     "data": {
      "image/png": "[encoded data removed]",
      "text/plain": [
       "<Figure size 432x288 with 2 Axes>"
      ]
     },
     "metadata": {
      "needs_background": "light"
     },
     "output_type": "display_data"
    }
   ],
   "source": [
    "sns.heatmap(con_mat,annot=True)"
   ]
  },
  {
   "cell_type": "code",
   "execution_count": 34,
   "id": "ca8a1262",
   "metadata": {},
   "outputs": [],
   "source": [
    "tp,fn,fp,tn=confusion_matrix(ytest,pred).reshape(-1)"
   ]
  },
  {
   "cell_type": "code",
   "execution_count": 35,
   "id": "1aa503a3",
   "metadata": {},
   "outputs": [
    {
     "data": {
      "text/plain": [
       "241"
      ]
     },
     "execution_count": 35,
     "metadata": {},
     "output_type": "execute_result"
    }
   ],
   "source": [
    "tp"
   ]
  },
  {
   "cell_type": "code",
   "execution_count": 36,
   "id": "c14132ab",
   "metadata": {},
   "outputs": [
    {
     "data": {
      "text/plain": [
       "87"
      ]
     },
     "execution_count": 36,
     "metadata": {},
     "output_type": "execute_result"
    }
   ],
   "source": [
    "fn"
   ]
  },
  {
   "cell_type": "code",
   "execution_count": 37,
   "id": "c31040b5",
   "metadata": {},
   "outputs": [
    {
     "data": {
      "text/plain": [
       "55"
      ]
     },
     "execution_count": 37,
     "metadata": {},
     "output_type": "execute_result"
    }
   ],
   "source": [
    "fp"
   ]
  },
  {
   "cell_type": "code",
   "execution_count": 38,
   "id": "aedd5f1e",
   "metadata": {},
   "outputs": [
    {
     "data": {
      "text/plain": [
       "19"
      ]
     },
     "execution_count": 38,
     "metadata": {},
     "output_type": "execute_result"
    }
   ],
   "source": [
    "tn"
   ]
  },
  {
   "cell_type": "code",
   "execution_count": 39,
   "id": "fae0a60a",
   "metadata": {},
   "outputs": [],
   "source": [
    "Accuracy = (tp+tn)/(tp+fp+tn+fn)"
   ]
  },
  {
   "cell_type": "code",
   "execution_count": 40,
   "id": "8d6d7f26",
   "metadata": {},
   "outputs": [
    {
     "data": {
      "text/plain": [
       "0.6467661691542289"
      ]
     },
     "execution_count": 40,
     "metadata": {},
     "output_type": "execute_result"
    }
   ],
   "source": [
    "Accuracy"
   ]
  },
  {
   "cell_type": "code",
   "execution_count": 41,
   "id": "bc2fa404",
   "metadata": {},
   "outputs": [],
   "source": [
    "# Precision or Positive Predictive Value(PPV)= tp/(tp+fp)\n",
    "\n",
    "Precision = tp/(tp+fp)"
   ]
  },
  {
   "cell_type": "code",
   "execution_count": 42,
   "id": "82037700",
   "metadata": {},
   "outputs": [
    {
     "data": {
      "text/plain": [
       "0.8141891891891891"
      ]
     },
     "execution_count": 42,
     "metadata": {},
     "output_type": "execute_result"
    }
   ],
   "source": [
    "Precision"
   ]
  },
  {
   "cell_type": "code",
   "execution_count": 43,
   "id": "a04e93bf",
   "metadata": {},
   "outputs": [],
   "source": [
    "# Sensitivity, Recall, Hit rate, or True Positive Rate(TPR)\n",
    "TPR = tp/(tp+fn)"
   ]
  },
  {
   "cell_type": "code",
   "execution_count": 44,
   "id": "4aeed614",
   "metadata": {},
   "outputs": [
    {
     "data": {
      "text/plain": [
       "0.7347560975609756"
      ]
     },
     "execution_count": 44,
     "metadata": {},
     "output_type": "execute_result"
    }
   ],
   "source": [
    "TPR"
   ]
  },
  {
   "cell_type": "code",
   "execution_count": 45,
   "id": "a6791237",
   "metadata": {},
   "outputs": [
    {
     "data": {
      "text/plain": [
       "0.7432432432432432"
      ]
     },
     "execution_count": 45,
     "metadata": {},
     "output_type": "execute_result"
    }
   ],
   "source": [
    "# False Positive Rate(FPR) or 1-Specificity\n",
    "\n",
    "FPR = fp/(fp+tn)\n",
    "FPR"
   ]
  },
  {
   "cell_type": "code",
   "execution_count": 46,
   "id": "b3ea5768",
   "metadata": {},
   "outputs": [
    {
     "data": {
      "text/plain": [
       "0.7744726433750824"
      ]
     },
     "execution_count": 46,
     "metadata": {},
     "output_type": "execute_result"
    }
   ],
   "source": [
    "# F1 Measure = (precision+Recall)/2\n",
    "\n",
    "F1_Measure = (Precision+TPR)/2\n",
    "F1_Measure "
   ]
  },
  {
   "cell_type": "code",
   "execution_count": 47,
   "id": "111ae1d2",
   "metadata": {},
   "outputs": [
    {
     "data": {
      "text/plain": [
       "2.0"
      ]
     },
     "execution_count": 47,
     "metadata": {},
     "output_type": "execute_result"
    }
   ],
   "source": [
    "# Harmonic Mean, F1 Score\n",
    "\n",
    "# F1 = (2*Precision*Recall)/(Precision*Recall)\n",
    "F1 = (2*Precision*TPR)/(Precision*TPR)\n",
    "F1"
   ]
  },
  {
   "cell_type": "code",
   "execution_count": 48,
   "id": "32b34c60",
   "metadata": {},
   "outputs": [
    {
     "data": {
      "text/plain": [
       "0.25675675675675674"
      ]
     },
     "execution_count": 48,
     "metadata": {},
     "output_type": "execute_result"
    }
   ],
   "source": [
    "# Specificity, Selectivity or True Negative Rate(TNR)\n",
    "\n",
    "Specificity = tn/(tn+fp)\n",
    "Specificity"
   ]
  },
  {
   "cell_type": "code",
   "execution_count": 49,
   "id": "c435c580",
   "metadata": {},
   "outputs": [
    {
     "data": {
      "text/plain": [
       "0.6292428198433421"
      ]
     },
     "execution_count": 49,
     "metadata": {},
     "output_type": "execute_result"
    }
   ],
   "source": [
    "# Threat Score(TS) or Critical Sccess Index(CSI)\n",
    "CSI = tp/(tp+fn+fp)\n",
    "CSI"
   ]
  },
  {
   "cell_type": "code",
   "execution_count": 50,
   "id": "1d49f639",
   "metadata": {},
   "outputs": [
    {
     "data": {
      "text/plain": [
       "0.1858108108108108"
      ]
     },
     "execution_count": 50,
     "metadata": {},
     "output_type": "execute_result"
    }
   ],
   "source": [
    "# False Discovery Rate(FDR)\n",
    "\n",
    "FDR = fp/(tp+fp)\n",
    "FDR "
   ]
  },
  {
   "cell_type": "code",
   "execution_count": 51,
   "id": "e129120a",
   "metadata": {},
   "outputs": [
    {
     "data": {
      "text/plain": [
       "<sklearn.metrics._plot.roc_curve.RocCurveDisplay at 0x7fcbecc14310>"
      ]
     },
     "execution_count": 51,
     "metadata": {},
     "output_type": "execute_result"
    },
    {
     "data": {
      "image/png": "[encoded data removed]",
      "text/plain": [
       "<Figure size 432x288 with 1 Axes>"
      ]
     },
     "metadata": {
      "needs_background": "light"
     },
     "output_type": "display_data"
    }
   ],
   "source": [
    "plot_roc_curve(clf,xtest,ytest)"
   ]
  },
  {
   "cell_type": "code",
   "execution_count": 52,
   "id": "0ee1a96d",
   "metadata": {},
   "outputs": [
    {
     "data": {
      "text/plain": [
       "[<matplotlib.lines.Line2D at 0x7fcbecd1d2b0>]"
      ]
     },
     "execution_count": 52,
     "metadata": {},
     "output_type": "execute_result"
    },
    {
     "data": {
      "image/png": "[encoded data removed]",
      "text/plain": [
       "<Figure size 432x288 with 1 Axes>"
      ]
     },
     "metadata": {
      "needs_background": "light"
     },
     "output_type": "display_data"
    }
   ],
   "source": [
    "import matplotlib.pyplot as plt\n",
    "\n",
    "plot_roc_curve(clf,xtest,ytest)\n",
    "plt.plot([0,1],[0,1])"
   ]
  }
 ],
 "metadata": {
  "kernelspec": {
   "display_name": "Python 3 (ipykernel)",
   "language": "python",
   "name": "python3"
  },
  "language_info": {
   "codemirror_mode": {
    "name": "ipython",
    "version": 3
   },
   "file_extension": ".py",
   "mimetype": "text/x-python",
   "name": "python",
   "nbconvert_exporter": "python",
   "pygments_lexer": "ipython3",
   "version": "3.9.7"
  }
 },
 "nbformat": 4,
 "nbformat_minor": 5
}
